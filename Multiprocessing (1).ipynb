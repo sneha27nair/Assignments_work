{
 "cells": [
  {
   "cell_type": "markdown",
   "id": "a47c0779",
   "metadata": {},
   "source": [
    "## Q1. What is multiprocessing in python? Why is it useful?"
   ]
  },
  {
   "cell_type": "markdown",
   "id": "a9662915",
   "metadata": {},
   "source": [
    "- Multiprocessing refers to the ability of a system to support more than one processor at the same time. Applications in a multiprocessing system are broken to smaller routines that run independently. The operating system allocates these threads to the processors improving performance of the system.\n",
    "\n",
    "- In Python, the multiprocessing module includes a very simple and intuitive API for dividing work between multiple processes.\n",
    "\n",
    "- In multiprocessing, any newly created process will do following:\n",
    "\n",
    "    run independently\n",
    "    have their own memory space.\n",
    "\n",
    "**Usage:-**\n",
    "\n",
    "\n",
    "- Python’s Global Interpreter Lock (GIL) only allows one thread to be run at a time under the interpreter, which means you can’t enjoy the performance benefit of multithreading if the Python interpreter is required. This is what gives multiprocessing an upper hand over threading in Python. Multiple processes can be run in parallel because each process has its own interpreter that executes the instructions allocated to it. Also, the OS would see your program in multiple processes and schedule them separately, i.e., your program gets a larger share of computer resources in total. So, multiprocessing is faster when the program is CPU-bound. In cases where there is a lot of I/O in your program, threading may be more efficient because most of the time, your program is waiting for the I/O to complete. However, multiprocessing is generally more efficient because it runs concurrently.\n",
    "\n",
    "\n",
    "\n"
   ]
  },
  {
   "cell_type": "markdown",
   "id": "c664f06b",
   "metadata": {},
   "source": [
    "## Q2. What are the differences between multiprocessing and multithreading?"
   ]
  },
  {
   "cell_type": "markdown",
   "id": "cce1c5ff",
   "metadata": {},
   "source": [
    "- multithreading refers to the ability of a processor to execute multiple threads concurrently, where each thread runs a process. Whereas multiprocessing refers to the ability of a system to run multiple processors concurrently, where each processor can run one or more threads.\n",
    "\n",
    "- multithreading (middle diagram), multiple threads share the same code, data, and files but run on a different register and stack. Multiprocessing (right diagram) multiplies a single processor — replicating the code, data, and files, which incurs more overhead.\n",
    "\n",
    "- Multithreading is useful for IO-bound processes, such as reading files from a network or database since each thread can run the IO-bound process concurrently. Multiprocessing is useful for CPU-bound processes, such as computationally heavy tasks since it will benefit from having multiple processors; similar to how multicore computers work faster than computers with a single core.\n",
    "\n",
    "- On the other hand, multiprocessing can be used for IO-bound processes. However, overhead for managing multiple processes is higher than managing multiple threads as illustrated above. You may notice that multiprocessing might lead to higher CPU utilization due to multiple CPU cores being used by the program, which is expected."
   ]
  },
  {
   "cell_type": "markdown",
   "id": "add633fe",
   "metadata": {},
   "source": [
    "## Q3. Write a python code to create a process using the multiprocessing module."
   ]
  },
  {
   "cell_type": "code",
   "execution_count": 1,
   "id": "0ead9300",
   "metadata": {},
   "outputs": [
    {
     "name": "stdout",
     "output_type": "stream",
     "text": [
      "Parent process executing\n"
     ]
    }
   ],
   "source": [
    "import multiprocessing\n",
    "\n",
    "def my_func():\n",
    "    print(\"Child process executing\")\n",
    "\n",
    "if __name__ == '__main__':\n",
    "    # Create a new process\n",
    "    p = multiprocessing.Process(target=my_func)\n",
    "\n",
    "    # Start the process\n",
    "    p.start()\n",
    "\n",
    "    # Wait for the process to complete\n",
    "    p.join()\n",
    "\n",
    "    print(\"Parent process executing\")"
   ]
  },
  {
   "cell_type": "markdown",
   "id": "b794db05",
   "metadata": {},
   "source": [
    "## Q4. What is a multiprocessing pool in python? Why is it used?"
   ]
  },
  {
   "cell_type": "markdown",
   "id": "67210c54",
   "metadata": {},
   "source": [
    "- A multiprocessing pool in Python is a way to distribute work across multiple processes in order to perform tasks in parallel. It allows you to create a pool of worker processes that can process tasks concurrently, which can help speed up the execution of CPU-bound tasks.\n",
    "\n",
    "- In Python's multiprocessing module, the Pool class provides a convenient way to create a fixed number of worker processes, and then to distribute work across those processes. You can use the map() method of a Pool object to apply a function to an iterable in parallel. The map() method will automatically distribute the workload across the available worker processes, and will return a list of results in the same order as the input iterable.\n",
    "\n",
    "- Using a multiprocessing pool can be useful when you have a CPU-bound task that can be broken down into smaller, independent units of work that can be executed in parallel. By distributing the workload across multiple processes, you can take advantage of multiple CPUs or CPU cores to speed up the execution of your code"
   ]
  },
  {
   "cell_type": "markdown",
   "id": "dbadd58b",
   "metadata": {},
   "source": [
    "## Q5. How can we create a pool of worker processes in python using the multiprocessing module?"
   ]
  },
  {
   "cell_type": "code",
   "execution_count": 1,
   "id": "bb19e3e7",
   "metadata": {},
   "outputs": [],
   "source": [
    "import multiprocessing"
   ]
  },
  {
   "cell_type": "code",
   "execution_count": 2,
   "id": "9fa858a6",
   "metadata": {},
   "outputs": [
    {
     "name": "stdout",
     "output_type": "stream",
     "text": [
      "[1, 4, 9, 16, 25]\n"
     ]
    }
   ],
   "source": [
    "def square(x):\n",
    "    return x*x\n",
    "\n",
    "if __name__ == '__main__':\n",
    "    with multiprocessing.Pool(processes=4) as pool:\n",
    "        nums = [1, 2, 3, 4, 5]\n",
    "        results = pool.map(square, nums)\n",
    "        print(results)"
   ]
  },
  {
   "cell_type": "markdown",
   "id": "c0066d6c",
   "metadata": {},
   "source": [
    "## Q6. Write a python program to create 4 processes, each process should print a different number using the multiprocessing module in python."
   ]
  },
  {
   "cell_type": "code",
   "execution_count": 3,
   "id": "04461189",
   "metadata": {},
   "outputs": [
    {
     "name": "stdout",
     "output_type": "stream",
     "text": [
      "Process Process-5ProcessProcess-6Process printed  0 \n",
      "printed  Process-71 \n",
      "printedProcess 2 \n",
      "Process-8 printed 3\n"
     ]
    }
   ],
   "source": [
    "import multiprocessing\n",
    "\n",
    "def print_number(num):\n",
    "    print(\"Process\", multiprocessing.current_process().name, \"printed\", num)\n",
    "\n",
    "if __name__ == '__main__':\n",
    "    processes = []\n",
    "    for i in range(4):\n",
    "        process = multiprocessing.Process(target=print_number, args=(i,))\n",
    "        processes.append(process)\n",
    "        process.start()\n",
    "\n",
    "    for process in processes:\n",
    "        process.join()"
   ]
  },
  {
   "cell_type": "code",
   "execution_count": null,
   "id": "0e5fb1da-1491-420e-8e0b-0f5af40286ba",
   "metadata": {},
   "outputs": [],
   "source": []
  }
 ],
 "metadata": {
  "kernelspec": {
   "display_name": "Python 3 (ipykernel)",
   "language": "python",
   "name": "python3"
  },
  "language_info": {
   "codemirror_mode": {
    "name": "ipython",
    "version": 3
   },
   "file_extension": ".py",
   "mimetype": "text/x-python",
   "name": "python",
   "nbconvert_exporter": "python",
   "pygments_lexer": "ipython3",
   "version": "3.10.8"
  }
 },
 "nbformat": 4,
 "nbformat_minor": 5
}
