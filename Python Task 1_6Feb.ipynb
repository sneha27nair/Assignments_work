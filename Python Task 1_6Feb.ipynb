{
 "cells": [
  {
   "cell_type": "markdown",
   "id": "ea16d59b",
   "metadata": {},
   "source": [
    "- # Q1. Create a function which will take a list as an argument and return the product of all the numbers\n",
    "after creating a flat list.\n",
    "\n",
    "\n",
    "Use the below-given list as an argument for your function.\n",
    "\n",
    "\n",
    "list1 = [1,2,3,4, [44,55,66, True], False, (34,56,78,89,34), {1,2,3,3,2,1}, {1:34, \"key2\": [55, 67, 78, 89], 4: (45,\n",
    "22, 61, 34)}, [56, 'data science'], 'Machine Learning']\n",
    "\n",
    "\n",
    "Note: you must extract numeric keys and values of the dictionary also.\n"
   ]
  },
  {
   "cell_type": "code",
   "execution_count": 8,
   "id": "cc81966f",
   "metadata": {},
   "outputs": [],
   "source": [
    "def product_of_numbers(lst):\n",
    "    flat_list = []\n",
    "    for item in lst:\n",
    "        if isinstance(item, (list, tuple, set)):\n",
    "            flat_list.extend(item)\n",
    "        else:\n",
    "            flat_list.append(item)\n",
    "    product = 1\n",
    "    for num in flat_list:\n",
    "        if isinstance(num, (int, float)):\n",
    "            product *= num\n",
    "    return product"
   ]
  },
  {
   "cell_type": "code",
   "execution_count": 11,
   "id": "40eb61e8",
   "metadata": {},
   "outputs": [],
   "source": [
    "list1 = [1,2,3,4, [44,55,66, True], False, (34,56,78,89,34), {1,2,3,3,2,1}, {1:34, \"key2\": [55, 67, 78, 89], 4: (45, 22, 61, 34)}, [56, 'data science'], 'Machine Learning']"
   ]
  },
  {
   "cell_type": "code",
   "execution_count": 12,
   "id": "ed25b06e",
   "metadata": {},
   "outputs": [
    {
     "name": "stdout",
     "output_type": "stream",
     "text": [
      "0\n"
     ]
    }
   ],
   "source": [
    "print(product_of_numbers(list1))"
   ]
  },
  {
   "cell_type": "markdown",
   "id": "a939092b",
   "metadata": {},
   "source": [
    "- # Q2. Write a python program for encrypting a message sent to you by your friend. The logic of encryption\n",
    "    should be such that, for a the output should be z. For b, the output should be y. For c, the output should\n",
    "    be x respectively. Also, the whitespace should be replaced with a dollar sign. Keep the punctuation\n",
    "    marks unchanged.\n",
    "\n",
    "\n",
    "  Input Sentence: I want to become a Data Scientist.\n",
    "\n",
    "\n",
    "    Encrypt the above input sentence using the program you just created.\n",
    "    Note: Convert the given input sentence into lowercase before encrypting. The final output should be\n",
    "    lowercase."
   ]
  },
  {
   "cell_type": "markdown",
   "id": "c8009320",
   "metadata": {},
   "source": [
    "-  we define a function called encrypt_message that takes a message as an argument. We create an empty string called encrypted_message to store the encrypted message.\n",
    "\n",
    "    For each character in the message, we first check if it is an alphabetic character using the isalpha() method. If it is, we encrypt it using the formula new_char = chr(219 - ord(char)), where ord(char) gets the Unicode code point of the character, and chr() returns the corresponding character for the given code point. The formula 219 - ord(char) is used to map 'a' to 'z', 'b' to 'y', and so on.\n",
    "\n",
    "    If the character is a space, we replace it with a dollar sign using the += operator to append it to the encrypted message.\n",
    "\n",
    "    If the character is not an alphabetic character or a space, we simply add it to the encrypted message as is.\n",
    "\n",
    "    Finally, we return the encrypted message as the result of the function."
   ]
  },
  {
   "cell_type": "code",
   "execution_count": 13,
   "id": "f6688f99",
   "metadata": {},
   "outputs": [],
   "source": [
    "def encrypt_message(message):\n",
    "    encrypted_message = ''\n",
    "    for char in message:\n",
    "        if char.isalpha():\n",
    "            new_char = chr(219 - ord(char))\n",
    "            encrypted_message += new_char\n",
    "        elif char == ' ':\n",
    "            encrypted_message += '$'\n",
    "        else:\n",
    "            encrypted_message += char\n",
    "    return encrypted_message\n"
   ]
  },
  {
   "cell_type": "code",
   "execution_count": 14,
   "id": "94d48bad",
   "metadata": {},
   "outputs": [
    {
     "name": "stdout",
     "output_type": "stream",
     "text": [
      "$dzmg$gl$yvxlnv$z$zgz$xrvmgrhg.\n"
     ]
    }
   ],
   "source": [
    "message = \"I want to become a Data Scientist.\"\n",
    "encrypted_message = encrypt_message(message)\n",
    "print(encrypted_message)\n"
   ]
  },
  {
   "cell_type": "code",
   "execution_count": null,
   "id": "7ba344a7",
   "metadata": {},
   "outputs": [],
   "source": []
  }
 ],
 "metadata": {
  "kernelspec": {
   "display_name": "Python 3 (ipykernel)",
   "language": "python",
   "name": "python3"
  },
  "language_info": {
   "codemirror_mode": {
    "name": "ipython",
    "version": 3
   },
   "file_extension": ".py",
   "mimetype": "text/x-python",
   "name": "python",
   "nbconvert_exporter": "python",
   "pygments_lexer": "ipython3",
   "version": "3.9.13"
  }
 },
 "nbformat": 4,
 "nbformat_minor": 5
}
