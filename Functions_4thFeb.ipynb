{
 "cells": [
  {
   "cell_type": "markdown",
   "id": "2f52521c",
   "metadata": {},
   "source": [
    "# Q1. Create a python program to sort the given list of tuples based on integer value using a lambda function. [('Sachin Tendulkar', 34357), ('Ricky Ponting', 27483), ('Jack Kallis', 25534), ('Virat Kohli', 24936)]"
   ]
  },
  {
   "cell_type": "code",
   "execution_count": 1,
   "id": "b967f904",
   "metadata": {},
   "outputs": [
    {
     "name": "stdout",
     "output_type": "stream",
     "text": [
      "[('Sachin Tendulkar', 34357), ('Ricky Ponting', 27483), ('Jack Kallis', 25534), ('Virat Kohli', 24936)]\n"
     ]
    }
   ],
   "source": [
    "data = [('Sachin Tendulkar', 34357), ('Ricky Ponting', 27483), ('Jack Kallis', 25534), ('Virat Kohli', 24936)]\n",
    "\n",
    "sorted_data = sorted(data, key=lambda x: x[1], reverse=True)\n",
    "\n",
    "print(sorted_data)"
   ]
  },
  {
   "cell_type": "markdown",
   "id": "c107cf10",
   "metadata": {},
   "source": [
    "- we use the sorted function and pass the key parameter as a lambda function. The lambda function extracts the second element of each tuple and sorts the list based on that value. We use reverse=True to sort the list in descending order."
   ]
  },
  {
   "cell_type": "markdown",
   "id": "f7e2927f",
   "metadata": {},
   "source": [
    "# Q2. Write a Python Program to find the squares of all the numbers in the given list of integers using\n",
    "lambda and map functions.\n",
    "[1, 2, 3, 4, 5, 6, 7, 8, 9, 10]"
   ]
  },
  {
   "cell_type": "code",
   "execution_count": 2,
   "id": "1acb0cc7",
   "metadata": {},
   "outputs": [
    {
     "name": "stdout",
     "output_type": "stream",
     "text": [
      "[1, 4, 9, 16, 25, 36, 49, 64, 81, 100]\n"
     ]
    }
   ],
   "source": [
    "my_list = [1, 2, 3, 4, 5, 6, 7, 8, 9, 10]\n",
    "squares = list(map(lambda x: x**2, my_list))\n",
    "print(squares)"
   ]
  },
  {
   "cell_type": "markdown",
   "id": "0e2695c9",
   "metadata": {},
   "source": [
    "- In this program, we first define a list of integers my_list. We then use the map() function to apply a lambda function to each element of the list. The lambda function takes an integer as input and returns its square. The resulting map object is then converted to a list and stored in the squares variable. Finally, we print the squares list which contains the squares of all the numbers in the original list."
   ]
  },
  {
   "cell_type": "markdown",
   "id": "2aabc80c",
   "metadata": {},
   "source": [
    "# Q3. Write a python program to convert the given list of integers into a tuple of strings. Use map and lambda functions\n",
    "Given String: [1, 2, 3, 4, 5, 6, 7, 8, 9, 10]\n",
    "Expected output: ('1', '2', '3', '4', '5', '6', '7', '8', '9', '10')"
   ]
  },
  {
   "cell_type": "markdown",
   "id": "af2452fe",
   "metadata": {},
   "source": [
    "- Here is a Python program to convert a given list of integers into a tuple of strings using the map() and lambda functions:"
   ]
  },
  {
   "cell_type": "code",
   "execution_count": 3,
   "id": "c0316933",
   "metadata": {},
   "outputs": [
    {
     "name": "stdout",
     "output_type": "stream",
     "text": [
      "('1', '2', '3', '4', '5', '6', '7', '8', '9', '10')\n"
     ]
    }
   ],
   "source": [
    "lst = [1, 2, 3, 4, 5, 6, 7, 8, 9, 10]\n",
    "\n",
    "# Using map and lambda to convert integers to strings\n",
    "str_tuple = tuple(map(lambda x: str(x), lst))\n",
    "\n",
    "# Printing the tuple of strings\n",
    "print(str_tuple)"
   ]
  },
  {
   "cell_type": "markdown",
   "id": "880d8d5e",
   "metadata": {},
   "source": [
    "# Q4. Write a python program using reduce function to compute the product of a list containing numbersfrom 1 to 25."
   ]
  },
  {
   "cell_type": "markdown",
   "id": "0cf0f46f",
   "metadata": {},
   "source": [
    "- In the above program, we first create a list of numbers from 1 to 25 using the range function. We then use the reduce function from the functools module to compute the product of all the numbers in the list.\n",
    "\n",
    "The reduce function takes two arguments: a function that takes two arguments and returns a single value, and an iterable (in this case, the num_list list). The lambda function used here multiplies two numbers and returns their product. The reduce function applies this lambda function to the elements of the list in a cumulative way, such that the result is the product of all the elements. Finally, we print the product of the list using the print function."
   ]
  },
  {
   "cell_type": "code",
   "execution_count": 5,
   "id": "0c3bf459",
   "metadata": {},
   "outputs": [
    {
     "name": "stdout",
     "output_type": "stream",
     "text": [
      "15511210043330985984000000\n"
     ]
    }
   ],
   "source": [
    "from functools import reduce\n",
    "\n",
    "num_list = range(1, 26)\n",
    "\n",
    "product = reduce(lambda x, y: x * y, num_list)\n",
    "\n",
    "print(product)\n"
   ]
  },
  {
   "cell_type": "markdown",
   "id": "71cb2d23",
   "metadata": {},
   "source": [
    "# Q5. Write a python program to filter the numbers in a given list that are divisible by 2 and 3 using the filter function.\n",
    "[2, 3, 6, 9, 27, 60, 90, 120, 55, 46]"
   ]
  },
  {
   "cell_type": "code",
   "execution_count": 6,
   "id": "700cdbb0",
   "metadata": {},
   "outputs": [
    {
     "name": "stdout",
     "output_type": "stream",
     "text": [
      "[6, 12, 18]\n"
     ]
    }
   ],
   "source": [
    "numbers = [1, 2, 3, 4, 5, 6, 7, 8, 9, 10, 11, 12, 13, 14, 15, 16, 17, 18, 19, 20]\n",
    "\n",
    "result = list(filter(lambda x: x % 2 == 0 and x % 3 == 0, numbers))\n",
    "\n",
    "print(result)\n"
   ]
  },
  {
   "cell_type": "markdown",
   "id": "407b377a",
   "metadata": {},
   "source": [
    "### Explanation:\n",
    "\n",
    "    We define a list of numbers from 1 to 20.\n",
    "    We use the filter() function to filter the numbers that are divisible by 2 and 3.\n",
    "    The lambda function lambda x: x % 2 == 0 and x % 3 == 0 is used to check whether a number is divisible by 2 and 3.\n",
    "    The list() function is used to convert the filter object into a list.\n",
    "    The filtered list is then printed as the output."
   ]
  },
  {
   "cell_type": "markdown",
   "id": "37a9d8ce",
   "metadata": {},
   "source": [
    "# Q6. Write a python program to find palindromes in the given list of strings using lambda and filter function.\n",
    "['python', 'php', 'aba', 'radar', 'level']"
   ]
  },
  {
   "cell_type": "code",
   "execution_count": 7,
   "id": "3f23f58f",
   "metadata": {},
   "outputs": [
    {
     "name": "stdout",
     "output_type": "stream",
     "text": [
      "Palindromes in the list: ['php', 'aba', 'radar', 'level']\n"
     ]
    }
   ],
   "source": [
    "strings = ['python', 'php', 'aba', 'radar', 'level']\n",
    "\n",
    "palindromes = list(filter(lambda s: s == s[::-1], strings))\n",
    "\n",
    "print(\"Palindromes in the list:\", palindromes)"
   ]
  },
  {
   "cell_type": "markdown",
   "id": "9d42eca8",
   "metadata": {},
   "source": [
    "- In the above program, we first define a list of strings called strings. We then use the filter() function along with a lambda function to filter out the palindromes from the list. The lambda function checks if the string is equal to its reverse, which is the condition for a palindrome. Finally, we convert the filtered object to a list and print the palindromes in the list."
   ]
  },
  {
   "cell_type": "code",
   "execution_count": null,
   "id": "a46a2139",
   "metadata": {},
   "outputs": [],
   "source": []
  }
 ],
 "metadata": {
  "kernelspec": {
   "display_name": "Python 3 (ipykernel)",
   "language": "python",
   "name": "python3"
  },
  "language_info": {
   "codemirror_mode": {
    "name": "ipython",
    "version": 3
   },
   "file_extension": ".py",
   "mimetype": "text/x-python",
   "name": "python",
   "nbconvert_exporter": "python",
   "pygments_lexer": "ipython3",
   "version": "3.9.13"
  }
 },
 "nbformat": 4,
 "nbformat_minor": 5
}
