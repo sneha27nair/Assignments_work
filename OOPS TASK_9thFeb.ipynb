{
 "cells": [
  {
   "cell_type": "markdown",
   "id": "284be1a8",
   "metadata": {},
   "source": [
    "- # Q1, Create a vehicle class with an init method having instance variables as name_of_vehicle, max_speed and average_of_vehicle."
   ]
  },
  {
   "cell_type": "markdown",
   "id": "70c8be5d",
   "metadata": {},
   "source": [
    "- In this class, name_of_vehicle, max_speed, and average_of_vehicle are instance variables. The __init__ method is used to initialize these instance variables when a new instance of the class is created.\n",
    "\n",
    "For example, to create a new instance of the Vehicle class with the name \"Car1\", a maximum speed of 200 km/h, and an average speed of 60 km/h, we can do the followin"
   ]
  },
  {
   "cell_type": "code",
   "execution_count": 1,
   "id": "fe061afb",
   "metadata": {},
   "outputs": [],
   "source": [
    "class Vehicle:\n",
    "    def __init__(self, name_of_vehicle, max_speed, average_of_vehicle):\n",
    "        self.name_of_vehicle = name_of_vehicle\n",
    "        self.max_speed = max_speed\n",
    "        self.average_of_vehicle = average_of_vehicle\n"
   ]
  },
  {
   "cell_type": "code",
   "execution_count": 4,
   "id": "e7409c5d",
   "metadata": {},
   "outputs": [],
   "source": [
    "car1 = Vehicle(\"Car1\", 200, 60)"
   ]
  },
  {
   "cell_type": "markdown",
   "id": "d8276bf4",
   "metadata": {},
   "source": [
    "- # Q2. Create a child class car from the vehicle class created in Que 1, which will inherit the vehicle class.Create a method named seating_capacity which takes capacity as an argument and returns the name of the vehicle and its seating capacity."
   ]
  },
  {
   "cell_type": "markdown",
   "id": "1b2182a2",
   "metadata": {},
   "source": [
    "- the Car class is defined as a child class of the Vehicle class. The Car class has a method named seating_capacity() that takes a parameter capacity which is the number of people the car can seat. The method returns a string that contains the name of the car and its seating capacity"
   ]
  },
  {
   "cell_type": "code",
   "execution_count": 5,
   "id": "70943623",
   "metadata": {},
   "outputs": [],
   "source": [
    "class Vehicle:\n",
    "    def __init__(self, name_of_vehicle, max_speed, average_of_vehicle):\n",
    "        self.name_of_vehicle = name_of_vehicle\n",
    "        self.max_speed = max_speed\n",
    "        self.average_of_vehicle = average_of_vehicle\n",
    "\n",
    "class Car(Vehicle):\n",
    "    def seating_capacity(self, capacity):\n",
    "        return f\"{self.name_of_vehicle} has a seating capacity of {capacity} people\""
   ]
  },
  {
   "cell_type": "code",
   "execution_count": 6,
   "id": "281e6019",
   "metadata": {},
   "outputs": [
    {
     "name": "stdout",
     "output_type": "stream",
     "text": [
      "Toyota has a seating capacity of 5 people\n"
     ]
    }
   ],
   "source": [
    "car = Car(\"Toyota\", 200, 20)\n",
    "print(car.seating_capacity(5))  # Output: Toyota has a seating capacity of 5 people"
   ]
  },
  {
   "cell_type": "markdown",
   "id": "65299423",
   "metadata": {},
   "source": [
    "- # Q3. What is multiple inheritance? Write a python code to demonstrate multiple inheritance.\n"
   ]
  },
  {
   "cell_type": "markdown",
   "id": "ec7a6217",
   "metadata": {},
   "source": [
    "- Multiple inheritance is a feature in object-oriented programming where a class can inherit attributes and methods from multiple parent classes.\n",
    "\n",
    "- In Python, multiple inheritance is supported. To demonstrate multiple inheritance, we can create a child class that inherits from multiple parent classes.\n",
    "\n",
    "- we have defined three classes: A, B, and C. Class A has a method called method_A and class B has a method called method_B. Class C is the child class that inherits from both class A and class B. It also has a method called method_C.\n",
    "\n",
    "- When we create an object of class C, we can call all three methods: method_A, method_B, and method_C. This demonstrates multiple inheritance in Python."
   ]
  },
  {
   "cell_type": "code",
   "execution_count": 7,
   "id": "a82d98db",
   "metadata": {},
   "outputs": [
    {
     "name": "stdout",
     "output_type": "stream",
     "text": [
      "This is method A\n",
      "This is method B\n",
      "This is method C\n"
     ]
    }
   ],
   "source": [
    "class A:\n",
    "    def method_A(self):\n",
    "        print(\"This is method A\")\n",
    "    \n",
    "class B:\n",
    "    def method_B(self):\n",
    "        print(\"This is method B\")\n",
    "\n",
    "class C(A, B):\n",
    "    def method_C(self):\n",
    "        print(\"This is method C\")\n",
    "\n",
    "obj = C()\n",
    "obj.method_A() # This is method A\n",
    "obj.method_B() # This is method B\n",
    "obj.method_C() # This is method C"
   ]
  },
  {
   "cell_type": "markdown",
   "id": "e786500b",
   "metadata": {},
   "source": [
    "- # Q4. What are getter and setter in python? Create a class and create a getter and a setter method in this class.\n"
   ]
  },
  {
   "cell_type": "markdown",
   "id": "c085baa4",
   "metadata": {},
   "source": [
    "- In Python, getters and setters are used to get and set the values of instance variables in a class. Getters are used to get the value of an instance variable, and setters are used to set the value of an instance variable.\n",
    "\n",
    "- In this example, the class Person has an instance variable _name which is set during initialization. The class also has a getter method get_name() which returns the value of _name, and a setter method set_name() which sets the value of _name.\n",
    "\n",
    "- The getter and setter methods are used to access and modify the instance variable _name in a controlled manner, ensuring that the values are retrieved and set correctly.\n",
    "\n",
    "Here's an example of how to use the Person class with the getter and setter m"
   ]
  },
  {
   "cell_type": "code",
   "execution_count": 8,
   "id": "84b303e0",
   "metadata": {},
   "outputs": [],
   "source": [
    "class Person:\n",
    "    def __init__(self, name):\n",
    "        self._name = name\n",
    "\n",
    "    def get_name(self):\n",
    "        return self._name\n",
    "\n",
    "    def set_name(self, name):\n",
    "        self._name = name"
   ]
  },
  {
   "cell_type": "code",
   "execution_count": 9,
   "id": "04f43e2b",
   "metadata": {},
   "outputs": [
    {
     "name": "stdout",
     "output_type": "stream",
     "text": [
      "John\n",
      "Jane\n"
     ]
    }
   ],
   "source": [
    "person = Person(\"John\")\n",
    "print(person.get_name())  # Output: John\n",
    "person.set_name(\"Jane\")\n",
    "print(person.get_name())  # Output: Jane"
   ]
  },
  {
   "cell_type": "markdown",
   "id": "c65e1e7e",
   "metadata": {},
   "source": [
    "- # Q5.What is method overriding in python? Write a python code to demonstrate method overriding."
   ]
  },
  {
   "cell_type": "markdown",
   "id": "444fea91",
   "metadata": {},
   "source": [
    "- Method overriding is a feature of object-oriented programming in which a subclass provides a different implementation of a method that is already defined by its parent class. The method in the subclass must have the same name, same arguments, and same return type as the method in the parent class.\n",
    "- we have defined a parent class Animal and two child classes Dog and Cat. The Animal class has a method speak, which is overridden in both child classes with their respective implementations. When we create objects of these classes and call the speak method, the corresponding implementation is called based on the object's class. This is an example of method overriding"
   ]
  },
  {
   "cell_type": "code",
   "execution_count": 10,
   "id": "b7f3cede",
   "metadata": {},
   "outputs": [
    {
     "name": "stdout",
     "output_type": "stream",
     "text": [
      "Animal is speaking\n",
      "Dog is barking\n",
      "Cat is meowing\n"
     ]
    }
   ],
   "source": [
    "class Animal:\n",
    "    def speak(self):\n",
    "        print(\"Animal is speaking\")\n",
    "\n",
    "class Dog(Animal):\n",
    "    def speak(self):\n",
    "        print(\"Dog is barking\")\n",
    "\n",
    "class Cat(Animal):\n",
    "    def speak(self):\n",
    "        print(\"Cat is meowing\")\n",
    "\n",
    "# create objects of the classes\n",
    "animal = Animal()\n",
    "dog = Dog()\n",
    "cat = Cat()\n",
    "\n",
    "# call the speak method of each object\n",
    "animal.speak() # output: \"Animal is speaking\"\n",
    "dog.speak() # output: \"Dog is barking\"\n",
    "cat.speak() # output: \"Cat is meowing\""
   ]
  },
  {
   "cell_type": "code",
   "execution_count": null,
   "id": "8523f573",
   "metadata": {},
   "outputs": [],
   "source": []
  }
 ],
 "metadata": {
  "kernelspec": {
   "display_name": "Python 3 (ipykernel)",
   "language": "python",
   "name": "python3"
  },
  "language_info": {
   "codemirror_mode": {
    "name": "ipython",
    "version": 3
   },
   "file_extension": ".py",
   "mimetype": "text/x-python",
   "name": "python",
   "nbconvert_exporter": "python",
   "pygments_lexer": "ipython3",
   "version": "3.9.13"
  }
 },
 "nbformat": 4,
 "nbformat_minor": 5
}
