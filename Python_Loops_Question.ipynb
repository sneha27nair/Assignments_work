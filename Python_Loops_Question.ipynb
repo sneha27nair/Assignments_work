{
 "cells": [
  {
   "cell_type": "markdown",
   "id": "5fba57c1",
   "metadata": {},
   "source": [
    "# Question - 1- Write a program to accept the percentage from the user ans display the grade according to the following criteria:-\n"
   ]
  },
  {
   "cell_type": "code",
   "execution_count": 1,
   "id": "a7999bb4",
   "metadata": {},
   "outputs": [
    {
     "name": "stdout",
     "output_type": "stream",
     "text": [
      "Enter your percentage68\n",
      "you have got a C grade\n"
     ]
    }
   ],
   "source": [
    "a = int(input(\"Enter your percentage\"))\n",
    "\n",
    "if a > 90:\n",
    "    print(\"you have got A grade\")\n",
    "elif (a >80 and a <=90):\n",
    "    print(\"you have got a B grade\")\n",
    "elif (a > 60 and a <=80):\n",
    "    print(\"you have got a C grade\")\n",
    "else:\n",
    "    print(\"you have got a D grade\")\n"
   ]
  },
  {
   "cell_type": "markdown",
   "id": "39f55eb4",
   "metadata": {},
   "source": [
    "# Question  2 - Write a program to accept the cost price of a bike and diplsay the road tax to be paid according to the following criteria:-\n"
   ]
  },
  {
   "cell_type": "code",
   "execution_count": 4,
   "id": "f8c23f48",
   "metadata": {},
   "outputs": [
    {
     "name": "stdout",
     "output_type": "stream",
     "text": [
      "Enter your price of your bike 65000\n",
      "The cost of road tax to be paid is 10% of price which is 6500.0\n"
     ]
    }
   ],
   "source": [
    "a = int(input(\"Enter your price of your bike \"))\n",
    "if (a > 100000):\n",
    "    print(f\"The cost of road tax to be paid is 15% of price which is \",a*0.15)\n",
    "elif (a>50000 and a <=100000):\n",
    "    print(f\"The cost of road tax to be paid is 10% of price which is\",a*0.10)\n",
    "else:\n",
    "    print(f\"The cost of road tax to be paid is 5% of price which is\",a*0.05)\n"
   ]
  },
  {
   "cell_type": "markdown",
   "id": "ce657fc5",
   "metadata": {},
   "source": [
    "# Question 3- Accept any city from user and display monuments of that city"
   ]
  },
  {
   "cell_type": "code",
   "execution_count": 5,
   "id": "377662f2",
   "metadata": {},
   "outputs": [
    {
     "name": "stdout",
     "output_type": "stream",
     "text": [
      "Enter your city nameDelhi\n",
      "The monument to visit is Red Fort\n"
     ]
    }
   ],
   "source": [
    "a = input(\"Enter your city name\")\n",
    "\n",
    "if (a == \"Delhi\"):\n",
    "    print(\"The monument to visit is Red Fort\")\n",
    "elif (a == \"Jaipur\"):\n",
    "    print(\"The monument to visit is Jal Mahal\")\n",
    "elif (a == \"Agra\"):\n",
    "    print(\"The monument to visit is taj Mahal\")\n",
    "else:\n",
    "    print(\"Invalid data entered\")"
   ]
  },
  {
   "cell_type": "markdown",
   "id": "da98c454",
   "metadata": {},
   "source": [
    "# Question 4 - Check how many times a given number can be divided by 3 before itis less than or equal to 10"
   ]
  },
  {
   "cell_type": "markdown",
   "id": "51464332",
   "metadata": {},
   "source": [
    "In this code, we first ask the user to enter a number. We then initialize a variable called count to 0, which we will use to keep track of the number of times we divide the number by 3.\n",
    "\n",
    "We then enter a while loop, which will continue as long as the number is greater than or equal to 10. Inside the loop, we divide the number by 3 and increment the count variable by 1.\n",
    "\n",
    "Once the loop is finished, we print out a message telling the user how many times the number can be divided by 3 before it is less than or equal to 10."
   ]
  },
  {
   "cell_type": "code",
   "execution_count": 6,
   "id": "e03eae59",
   "metadata": {},
   "outputs": [
    {
     "name": "stdout",
     "output_type": "stream",
     "text": [
      "Enter a number: 60\n",
      "The number can be divided by 3 2 times before it is less than or equal to 10.\n"
     ]
    }
   ],
   "source": [
    "number = int(input(\"Enter a number: \"))\n",
    "count = 0\n",
    "\n",
    "while number >= 10:\n",
    "    number /= 3\n",
    "    count += 1\n",
    "\n",
    "print(\"The number can be divided by 3\", count, \"times before it is less than or equal to 10.\")"
   ]
  },
  {
   "cell_type": "markdown",
   "id": "31eb8674",
   "metadata": {},
   "source": [
    "# Question 5-  Why and when to use while loop in python give a detaild description with example"
   ]
  },
  {
   "cell_type": "markdown",
   "id": "46940da2",
   "metadata": {},
   "source": [
    "In Python, a while loop is used to execute a block of code repeatedly as long as a certain condition is true. The syntax of a while loop is as follows:\n",
    "\n"
   ]
  },
  {
   "cell_type": "markdown",
   "id": "d20b91dc",
   "metadata": {},
   "source": [
    "- while condition:\n",
    "    #### code to execute while condition is true\n",
    "    \n",
    "Here, condition is an expression that is evaluated at the beginning of each iteration of the loop. If the condition is true, the code inside the loop is executed. The loop continues to iterate as long as the condition remains true. If the condition becomes false, the loop exits and execution continues with the code after the loop.\n",
    "\n",
    "A while loop is useful when you want to perform an action repeatedly until a certain condition is met. For example, you might use a while loop to iterate over a list until you find a specific value, or to prompt the user for input until they provide valid input.\n",
    "\n",
    "Here's an example of a while loop that prompts the user for a positive integer:\n"
   ]
  },
  {
   "cell_type": "code",
   "execution_count": 9,
   "id": "97b45ca5",
   "metadata": {},
   "outputs": [
    {
     "name": "stdout",
     "output_type": "stream",
     "text": [
      "Enter a positive integer: 6\n"
     ]
    }
   ],
   "source": [
    "num = -1\n",
    "while num < 0:\n",
    "    num = int(input(\"Enter a positive integer: \"))\n"
   ]
  },
  {
   "cell_type": "markdown",
   "id": "0fd2d9e4",
   "metadata": {},
   "source": [
    "n this code, the while loop continues to prompt the user for input as long as the value entered is not a positive integer. The loop exits when the user enters a positive integer.\n",
    "\n",
    "Another example is using a while loop to iterate over a list until a specific value is found:"
   ]
  },
  {
   "cell_type": "code",
   "execution_count": 10,
   "id": "08873a2a",
   "metadata": {},
   "outputs": [
    {
     "name": "stdout",
     "output_type": "stream",
     "text": [
      "Found orange at index 2\n"
     ]
    }
   ],
   "source": [
    "fruits = [\"apple\", \"banana\", \"orange\", \"pear\"]\n",
    "index = 0\n",
    "while fruits[index] != \"orange\":\n",
    "    index += 1\n",
    "print(\"Found orange at index\", index)\n"
   ]
  },
  {
   "cell_type": "markdown",
   "id": "14115ff7",
   "metadata": {},
   "source": [
    "In this code, the while loop iterates over the list of fruits until it finds the string \"orange\". The loop exits when the string is found, and the program prints the index at which it was found.\n",
    "\n",
    "It's important to be careful when using while loops, as they can easily result in infinite loops if the condition is never met. To avoid this, make sure that the condition you're checking in the loop will eventually become false. You can also add a counter or other condition to terminate the loop after a certain number of iterations."
   ]
  },
  {
   "cell_type": "markdown",
   "id": "c21935f6",
   "metadata": {},
   "source": [
    "# Question 6 - Use nested while loop to print 3 different pattern"
   ]
  },
  {
   "cell_type": "markdown",
   "id": "dbc9164e",
   "metadata": {},
   "source": [
    "## Square pattern"
   ]
  },
  {
   "cell_type": "code",
   "execution_count": 15,
   "id": "d553df94",
   "metadata": {},
   "outputs": [
    {
     "name": "stdout",
     "output_type": "stream",
     "text": [
      "* * * * * \n",
      "* * * * * \n",
      "* * * * * \n",
      "* * * * * \n",
      "* * * * * \n"
     ]
    }
   ],
   "source": [
    "n = 5\n",
    "i = 1\n",
    "while i <= n: #rows \n",
    "    j = 1\n",
    "    while j <= n: #columns\n",
    "        print(\"*\",end = \" \")\n",
    "        j +=1\n",
    "    print()\n",
    "    i+=1"
   ]
  },
  {
   "cell_type": "markdown",
   "id": "dc61bcc6",
   "metadata": {},
   "source": [
    "# Right triangle pattern"
   ]
  },
  {
   "cell_type": "code",
   "execution_count": 16,
   "id": "a37cb65e",
   "metadata": {},
   "outputs": [
    {
     "name": "stdout",
     "output_type": "stream",
     "text": [
      "* \n",
      "* * \n",
      "* * * \n",
      "* * * * \n",
      "* * * * * \n"
     ]
    }
   ],
   "source": [
    "n = 5\n",
    "i = 1\n",
    "while i <= n:\n",
    "    j = 1\n",
    "    while j <= i:\n",
    "        print(\"*\", end=\" \")\n",
    "        j += 1\n",
    "    print()\n",
    "    i += 1"
   ]
  },
  {
   "cell_type": "markdown",
   "id": "2c0a2ae9",
   "metadata": {},
   "source": [
    "# Diamond pattern"
   ]
  },
  {
   "cell_type": "code",
   "execution_count": 17,
   "id": "af35d80e",
   "metadata": {},
   "outputs": [
    {
     "name": "stdout",
     "output_type": "stream",
     "text": [
      "    *\n",
      "   ***\n",
      "  *****\n",
      " *******\n",
      "*********\n",
      " *******\n",
      "  *****\n",
      "   ***\n",
      "    *\n"
     ]
    }
   ],
   "source": [
    "n = 5\n",
    "i = 1\n",
    "while i <= n:\n",
    "    j = 1\n",
    "    while j <= n - i:\n",
    "        print(\" \", end=\"\")\n",
    "        j += 1\n",
    "    j = 1\n",
    "    while j <= 2 * i - 1:\n",
    "        print(\"*\", end=\"\")\n",
    "        j += 1\n",
    "    print()\n",
    "    i += 1\n",
    "i = n - 1\n",
    "while i >= 1:\n",
    "    j = 1\n",
    "    while j <= n - i:\n",
    "        print(\" \", end=\"\")\n",
    "        j += 1\n",
    "    j = 1\n",
    "    while j <= 2 * i - 1:\n",
    "        print(\"*\", end=\"\")\n",
    "        j += 1\n",
    "    print()\n",
    "    i -= 1"
   ]
  },
  {
   "cell_type": "markdown",
   "id": "296398b8",
   "metadata": {},
   "source": [
    "# Question 7 - Reverse a while loop to display numbes from 10 to 1"
   ]
  },
  {
   "cell_type": "code",
   "execution_count": 18,
   "id": "0c3b25ca",
   "metadata": {},
   "outputs": [
    {
     "name": "stdout",
     "output_type": "stream",
     "text": [
      "10\n",
      "9\n",
      "8\n",
      "7\n",
      "6\n",
      "5\n",
      "4\n",
      "3\n",
      "2\n",
      "1\n"
     ]
    }
   ],
   "source": [
    "i = 10\n",
    "while i >= 1:\n",
    "    print(i)\n",
    "    i -= 1"
   ]
  },
  {
   "cell_type": "markdown",
   "id": "053ca63f",
   "metadata": {},
   "source": [
    "- In this code, we initialize the variable i to 10, and then use a while loop to print the value of i and decrement it by 1 on each iteration.\n",
    "\n",
    "- The loop continues until i is less than 1, at which point the loop terminates. This results in the numbers 10 through 1 being printed in reverse order."
   ]
  },
  {
   "cell_type": "code",
   "execution_count": null,
   "id": "587ab463",
   "metadata": {},
   "outputs": [],
   "source": []
  }
 ],
 "metadata": {
  "kernelspec": {
   "display_name": "Python 3 (ipykernel)",
   "language": "python",
   "name": "python3"
  },
  "language_info": {
   "codemirror_mode": {
    "name": "ipython",
    "version": 3
   },
   "file_extension": ".py",
   "mimetype": "text/x-python",
   "name": "python",
   "nbconvert_exporter": "python",
   "pygments_lexer": "ipython3",
   "version": "3.9.13"
  }
 },
 "nbformat": 4,
 "nbformat_minor": 5
}
