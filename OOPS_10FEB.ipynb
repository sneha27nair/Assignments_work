{
 "cells": [
  {
   "cell_type": "markdown",
   "id": "eb6ad853",
   "metadata": {},
   "source": [
    "- Q1. Which function is used to open a file? What are the different modes of opening a file? Explain each mode\n",
    "    of file opening.\n",
    "- Q2. Why close() function is used? Why is it important to close a file?\n",
    "- Q3. Write a python program to create a text file. Write ‘I want to become a Data Scientist’ in that file. Then\n",
    "    close the file. Open this file and read the content of the file.\n",
    "- Q4. Explain the following with python code: read(), readline() and readlines().\n",
    "- Q5. Explain why with statement is used with open(). What is the advantage of using with statement and\n",
    "    open() together?\n",
    "- Q6. Explain the write() and writelines() functions. Give a suitable example."
   ]
  },
  {
   "cell_type": "markdown",
   "id": "14206eff",
   "metadata": {},
   "source": [
    "# Q1. Which function is used to open a file? What are the different modes of opening a file? Explain each mode of file opening."
   ]
  },
  {
   "cell_type": "markdown",
   "id": "e8c60481",
   "metadata": {},
   "source": [
    "- In Python, the built-in function used to open a file is open().\n",
    "\n",
    "The syntax for opening a file using the open() function is as follows:"
   ]
  },
  {
   "cell_type": "markdown",
   "id": "d096a006",
   "metadata": {},
   "source": [
    "file = open(file_path, mode)"
   ]
  },
  {
   "cell_type": "markdown",
   "id": "5594e5fd",
   "metadata": {},
   "source": [
    "- The file_path argument is a string that specifies the location and name of the file you want to open. The mode argument is a string that specifies the purpose for which you want to open the file.\n",
    "\n",
    "There are different modes of opening a file in Python, which are listed below:\n",
    "\n",
    "- r (Read Mode): This mode is used to read data from an existing file. It is the default mode of file opening. If the file does not exist, a \"FileNotFoundError\" will be raised.\n",
    "\n",
    "- w (Write Mode): This mode is used to write data to a file. If the file does not exist, a new file will be created. If the file exists, the old data in the file will be overwritten.\n",
    "\n",
    "- a (Append Mode): This mode is used to append data to an existing file. If the file does not exist, a new file will be created.\n",
    "\n",
    "- x (Exclusive Creation Mode): This mode is used to create a new file. If the file already exists, a \"FileExistsError\" will be raised.\n",
    "\n",
    "- b (Binary Mode): This mode is used to read or write binary data, such as images or audio files.\n",
    "\n",
    "- t (Text Mode): This mode is used to read or write text data, such as string or character data. It is the default mode for opening a file.\n",
    "\n",
    "The mode argument can be a combination of the above modes. For example, to open a file in write mode and binary mode, you can use the mode string \"wb\".\n",
    "\n",
    "It is important to remember to close the file after you are done with it, using the close() method. This will release any system resources being used by the file. Alternatively, you can use the with statement to automatically close the file when you are done with it."
   ]
  },
  {
   "cell_type": "markdown",
   "id": "e8e2dbbf",
   "metadata": {},
   "source": [
    "# Q2. Why close() function is used? Why is it important to close a file?"
   ]
  },
  {
   "cell_type": "markdown",
   "id": "36c77ba7",
   "metadata": {},
   "source": [
    "- In Python, the close() function is used to close an opened file. When you are done with reading or writing to a file, you should always close the file using this method.\n",
    "\n",
    "- It is important to close a file after you are done with it because open files consume system resources, and leaving a file open for an extended period of time can lead to resource exhaustion, which can cause your program to crash or cause other system issues.\n",
    "\n",
    "- Closing a file ensures that all data that has been written to the file is actually saved to disk. When you write to a file, the data is often first stored in a buffer, which is a temporary memory location. Closing the file flushes this buffer and writes any remaining data to the file before releasing the system resources associated with the file.\n",
    "\n",
    "- In addition to releasing system resources and ensuring that data is saved to disk, closing a file can also prevent data corruption. If a file is not closed properly, data can be lost or corrupted. This can happen, for example, if a program terminates unexpectedly, or if the system crashes before the file is closed.\n",
    "\n",
    "- In summary, it is important to close a file after you are done with it to release system resources, ensure data is saved to disk, and prevent data corruption. You can close a file using the close() method or by using the with statement, which automatically closes the file for you when the block of code is complete."
   ]
  },
  {
   "cell_type": "markdown",
   "id": "b6817722",
   "metadata": {},
   "source": [
    "# Q3. Write a python program to create a text file. Write ‘I want to become a Data Scientist’ in that file. Then close the file. Open this file and read the content of the file."
   ]
  },
  {
   "cell_type": "markdown",
   "id": "65b4d7d8",
   "metadata": {},
   "source": [
    "- Here's an example Python program that creates a text file, writes a string to it, closes the file, and then opens it again to read its contents:"
   ]
  },
  {
   "cell_type": "code",
   "execution_count": 3,
   "id": "c6df382b",
   "metadata": {},
   "outputs": [
    {
     "name": "stdout",
     "output_type": "stream",
     "text": [
      "I want to become a Data Scientist\n"
     ]
    }
   ],
   "source": [
    "# Open file for writing\n",
    "file = open(\"data_scientist.txt\", \"w\")\n",
    "\n",
    "# Write string to file\n",
    "file.write(\"I want to become a Data Scientist\")\n",
    "\n",
    "# Close file\n",
    "file.close()\n",
    "\n",
    "# Open file for reading\n",
    "file = open(\"data_scientist.txt\", \"r\")\n",
    "\n",
    "# Read file contents and print to console\n",
    "content = file.read()\n",
    "print(content)\n",
    "\n",
    "# Close file\n",
    "file.close()"
   ]
  },
  {
   "cell_type": "markdown",
   "id": "9eced98e",
   "metadata": {},
   "source": [
    "- In this program, we first open a file named \"data_scientist.txt\" in write mode using the open() function. We then write the string \"I want to become a Data Scientist\" to the file using the write() method, and close the file using the close() method.\n",
    "\n",
    "We then open the file again, this time in read mode using the open() function. We use the read() method to read the contents of the file into a variable named content, and then print the contents of content to the console using the print() function. Finally, we close the file again using the close() method.\n",
    "\n",
    "When you run this program, it will create a file named \"data_scientist.txt\" in the same directory as your Python program, write the string \"I want to become a Data Scientist\" to it, and then read and print the contents of the file to the console."
   ]
  },
  {
   "cell_type": "markdown",
   "id": "9c446efa",
   "metadata": {},
   "source": [
    "# Q4. Explain the following with python code: read(), readline() and readlines()"
   ]
  },
  {
   "cell_type": "markdown",
   "id": "730e2d14",
   "metadata": {},
   "source": [
    "- In Python, there are several methods for reading the contents of a file, including read(), readline(), and readlines(). Here is a brief explanation of each method, along with an example Python code snippet:\n",
    "\n",
    "1. read(): The read() method reads the entire contents of a file and returns it as a single string. This method can be useful if you need to process the entire contents of a file at once, but it can be memory-intensive for large files."
   ]
  },
  {
   "cell_type": "code",
   "execution_count": 5,
   "id": "e041a16f",
   "metadata": {},
   "outputs": [
    {
     "ename": "FileNotFoundError",
     "evalue": "[Errno 2] No such file or directory: 'example.txt'",
     "output_type": "error",
     "traceback": [
      "\u001b[1;31m---------------------------------------------------------------------------\u001b[0m",
      "\u001b[1;31mFileNotFoundError\u001b[0m                         Traceback (most recent call last)",
      "\u001b[1;32m~\\AppData\\Local\\Temp\\ipykernel_7128\\3333095001.py\u001b[0m in \u001b[0;36m<module>\u001b[1;34m\u001b[0m\n\u001b[0;32m      1\u001b[0m \u001b[1;31m# Open file for reading\u001b[0m\u001b[1;33m\u001b[0m\u001b[1;33m\u001b[0m\u001b[0m\n\u001b[1;32m----> 2\u001b[1;33m \u001b[0mfile\u001b[0m \u001b[1;33m=\u001b[0m \u001b[0mopen\u001b[0m\u001b[1;33m(\u001b[0m\u001b[1;34m\"example.txt\"\u001b[0m\u001b[1;33m,\u001b[0m \u001b[1;34m\"r\"\u001b[0m\u001b[1;33m)\u001b[0m\u001b[1;33m\u001b[0m\u001b[1;33m\u001b[0m\u001b[0m\n\u001b[0m\u001b[0;32m      3\u001b[0m \u001b[1;33m\u001b[0m\u001b[0m\n\u001b[0;32m      4\u001b[0m \u001b[1;31m# Read entire file contents as a single string\u001b[0m\u001b[1;33m\u001b[0m\u001b[1;33m\u001b[0m\u001b[0m\n\u001b[0;32m      5\u001b[0m \u001b[0mcontent\u001b[0m \u001b[1;33m=\u001b[0m \u001b[0mfile\u001b[0m\u001b[1;33m.\u001b[0m\u001b[0mread\u001b[0m\u001b[1;33m(\u001b[0m\u001b[1;33m)\u001b[0m\u001b[1;33m\u001b[0m\u001b[1;33m\u001b[0m\u001b[0m\n",
      "\u001b[1;31mFileNotFoundError\u001b[0m: [Errno 2] No such file or directory: 'example.txt'"
     ]
    }
   ],
   "source": [
    "# Open file for reading\n",
    "file = open(\"example.txt\", \"r\")\n",
    "\n",
    "# Read entire file contents as a single string\n",
    "content = file.read()\n",
    "\n",
    "# Print file contents\n",
    "print(content)\n",
    "\n",
    "# Close file\n",
    "file.close()"
   ]
  },
  {
   "cell_type": "markdown",
   "id": "126bab5d",
   "metadata": {},
   "source": [
    "2. readline(): The readline() method reads a single line from a file and returns it as a string. This method can be useful if you need to process a file one line at a time."
   ]
  },
  {
   "cell_type": "code",
   "execution_count": 6,
   "id": "1102e2c4",
   "metadata": {},
   "outputs": [
    {
     "ename": "FileNotFoundError",
     "evalue": "[Errno 2] No such file or directory: 'example.txt'",
     "output_type": "error",
     "traceback": [
      "\u001b[1;31m---------------------------------------------------------------------------\u001b[0m",
      "\u001b[1;31mFileNotFoundError\u001b[0m                         Traceback (most recent call last)",
      "\u001b[1;32m~\\AppData\\Local\\Temp\\ipykernel_7128\\730222536.py\u001b[0m in \u001b[0;36m<module>\u001b[1;34m\u001b[0m\n\u001b[0;32m      1\u001b[0m \u001b[1;31m# Open file for reading\u001b[0m\u001b[1;33m\u001b[0m\u001b[1;33m\u001b[0m\u001b[0m\n\u001b[1;32m----> 2\u001b[1;33m \u001b[0mfile\u001b[0m \u001b[1;33m=\u001b[0m \u001b[0mopen\u001b[0m\u001b[1;33m(\u001b[0m\u001b[1;34m\"example.txt\"\u001b[0m\u001b[1;33m,\u001b[0m \u001b[1;34m\"r\"\u001b[0m\u001b[1;33m)\u001b[0m\u001b[1;33m\u001b[0m\u001b[1;33m\u001b[0m\u001b[0m\n\u001b[0m\u001b[0;32m      3\u001b[0m \u001b[1;33m\u001b[0m\u001b[0m\n\u001b[0;32m      4\u001b[0m \u001b[1;31m# Read first line of file\u001b[0m\u001b[1;33m\u001b[0m\u001b[1;33m\u001b[0m\u001b[0m\n\u001b[0;32m      5\u001b[0m \u001b[0mline1\u001b[0m \u001b[1;33m=\u001b[0m \u001b[0mfile\u001b[0m\u001b[1;33m.\u001b[0m\u001b[0mreadline\u001b[0m\u001b[1;33m(\u001b[0m\u001b[1;33m)\u001b[0m\u001b[1;33m\u001b[0m\u001b[1;33m\u001b[0m\u001b[0m\n",
      "\u001b[1;31mFileNotFoundError\u001b[0m: [Errno 2] No such file or directory: 'example.txt'"
     ]
    }
   ],
   "source": [
    "# Open file for reading\n",
    "file = open(\"example.txt\", \"r\")\n",
    "\n",
    "# Read first line of file\n",
    "line1 = file.readline()\n",
    "\n",
    "# Read second line of file\n",
    "line2 = file.readline()\n",
    "\n",
    "# Print file contents\n",
    "print(line1)\n",
    "print(line2)\n",
    "\n",
    "# Close file\n",
    "file.close()"
   ]
  },
  {
   "cell_type": "markdown",
   "id": "d27e135d",
   "metadata": {},
   "source": [
    "3. readlines(): The readlines() method reads the entire contents of a file and returns them as a list of strings, where each string represents a single line in the file. This method can be useful if you need to process a file one line at a time and want to store each line as a separate string in a list."
   ]
  },
  {
   "cell_type": "code",
   "execution_count": 7,
   "id": "9f353214",
   "metadata": {},
   "outputs": [
    {
     "ename": "FileNotFoundError",
     "evalue": "[Errno 2] No such file or directory: 'example.txt'",
     "output_type": "error",
     "traceback": [
      "\u001b[1;31m---------------------------------------------------------------------------\u001b[0m",
      "\u001b[1;31mFileNotFoundError\u001b[0m                         Traceback (most recent call last)",
      "\u001b[1;32m~\\AppData\\Local\\Temp\\ipykernel_7128\\1558601555.py\u001b[0m in \u001b[0;36m<module>\u001b[1;34m\u001b[0m\n\u001b[0;32m      1\u001b[0m \u001b[1;31m# Open file for reading\u001b[0m\u001b[1;33m\u001b[0m\u001b[1;33m\u001b[0m\u001b[0m\n\u001b[1;32m----> 2\u001b[1;33m \u001b[0mfile\u001b[0m \u001b[1;33m=\u001b[0m \u001b[0mopen\u001b[0m\u001b[1;33m(\u001b[0m\u001b[1;34m\"example.txt\"\u001b[0m\u001b[1;33m,\u001b[0m \u001b[1;34m\"r\"\u001b[0m\u001b[1;33m)\u001b[0m\u001b[1;33m\u001b[0m\u001b[1;33m\u001b[0m\u001b[0m\n\u001b[0m\u001b[0;32m      3\u001b[0m \u001b[1;33m\u001b[0m\u001b[0m\n\u001b[0;32m      4\u001b[0m \u001b[1;31m# Read entire file contents as a list of lines\u001b[0m\u001b[1;33m\u001b[0m\u001b[1;33m\u001b[0m\u001b[0m\n\u001b[0;32m      5\u001b[0m \u001b[0mlines\u001b[0m \u001b[1;33m=\u001b[0m \u001b[0mfile\u001b[0m\u001b[1;33m.\u001b[0m\u001b[0mreadlines\u001b[0m\u001b[1;33m(\u001b[0m\u001b[1;33m)\u001b[0m\u001b[1;33m\u001b[0m\u001b[1;33m\u001b[0m\u001b[0m\n",
      "\u001b[1;31mFileNotFoundError\u001b[0m: [Errno 2] No such file or directory: 'example.txt'"
     ]
    }
   ],
   "source": [
    "# Open file for reading\n",
    "file = open(\"example.txt\", \"r\")\n",
    "\n",
    "# Read entire file contents as a list of lines\n",
    "lines = file.readlines()\n",
    "\n",
    "# Print file contents\n",
    "for line in lines:\n",
    "    print(line)\n",
    "\n",
    "# Close file\n",
    "file.close()"
   ]
  },
  {
   "cell_type": "markdown",
   "id": "58f0848b",
   "metadata": {},
   "source": [
    "- In these examples, we first open a file named \"example.txt\" in read mode using the open() function. We then use the read(), readline(), or readlines() method to read the contents of the file, depending on the method we want to use. We then print the contents of the file or individual lines to the console using the print() function. Finally, we close the file using the close() method."
   ]
  },
  {
   "cell_type": "markdown",
   "id": "524f25f2",
   "metadata": {},
   "source": [
    "# Q5. Explain why with statement is used with open(). What is the advantage of using with statement and open() together?"
   ]
  },
  {
   "cell_type": "markdown",
   "id": "dc2e32de",
   "metadata": {},
   "source": [
    "- The with statement in Python is used to ensure that a block of code is executed within the context of a specific object, and that the object is cleaned up and released after the code has completed execution. When it comes to file input/output operations, with is often used in conjunction with the open() function.\n",
    "\n",
    "The advantage of using with statement and open() together is that it ensures that the file is properly closed after its suite finishes, even if an exception is raised during the processing of the file. This makes the code more robust and less prone to errors. In other words, using with statement and open() together provides a better way to handle files by avoiding common problems such as forgetting to close the file, and by handling exceptions in a more reliable way.\n",
    "\n",
    "Here is an example of how to use the with statement with open() to read the contents of a file:"
   ]
  },
  {
   "cell_type": "code",
   "execution_count": 9,
   "id": "99b0e2c6",
   "metadata": {},
   "outputs": [
    {
     "ename": "FileNotFoundError",
     "evalue": "[Errno 2] No such file or directory: 'example.txt'",
     "output_type": "error",
     "traceback": [
      "\u001b[1;31m---------------------------------------------------------------------------\u001b[0m",
      "\u001b[1;31mFileNotFoundError\u001b[0m                         Traceback (most recent call last)",
      "\u001b[1;32m~\\AppData\\Local\\Temp\\ipykernel_7128\\4238981995.py\u001b[0m in \u001b[0;36m<module>\u001b[1;34m\u001b[0m\n\u001b[0;32m      1\u001b[0m \u001b[1;31m# Open file and read its contents using with statement\u001b[0m\u001b[1;33m\u001b[0m\u001b[1;33m\u001b[0m\u001b[0m\n\u001b[1;32m----> 2\u001b[1;33m \u001b[1;32mwith\u001b[0m \u001b[0mopen\u001b[0m\u001b[1;33m(\u001b[0m\u001b[1;34m\"example.txt\"\u001b[0m\u001b[1;33m,\u001b[0m \u001b[1;34m\"r\"\u001b[0m\u001b[1;33m)\u001b[0m \u001b[1;32mas\u001b[0m \u001b[0mfile\u001b[0m\u001b[1;33m:\u001b[0m\u001b[1;33m\u001b[0m\u001b[1;33m\u001b[0m\u001b[0m\n\u001b[0m\u001b[0;32m      3\u001b[0m     \u001b[0mcontent\u001b[0m \u001b[1;33m=\u001b[0m \u001b[0mfile\u001b[0m\u001b[1;33m.\u001b[0m\u001b[0mread\u001b[0m\u001b[1;33m(\u001b[0m\u001b[1;33m)\u001b[0m\u001b[1;33m\u001b[0m\u001b[1;33m\u001b[0m\u001b[0m\n\u001b[0;32m      4\u001b[0m     \u001b[0mprint\u001b[0m\u001b[1;33m(\u001b[0m\u001b[0mcontent\u001b[0m\u001b[1;33m)\u001b[0m\u001b[1;33m\u001b[0m\u001b[1;33m\u001b[0m\u001b[0m\n",
      "\u001b[1;31mFileNotFoundError\u001b[0m: [Errno 2] No such file or directory: 'example.txt'"
     ]
    }
   ],
   "source": [
    "# Open file and read its contents using with statement\n",
    "with open(\"example.txt\", \"r\") as file:\n",
    "    content = file.read()\n",
    "    print(content)"
   ]
  },
  {
   "cell_type": "markdown",
   "id": "b9659fbe",
   "metadata": {},
   "source": [
    "- In this example, the with statement is used to open the file \"example.txt\" in read mode, and a reference to the file object is created with the name file. Within the with block, the contents of the file are read using the read() method and stored in the content variable. Finally, the contents of the file are printed to the console using the print() function.\n",
    "\n",
    "When the with block is exited, the file is automatically closed, even if an error occurs during the processing of the file. This makes it much easier to handle files in Python, and helps to ensure that your code is reliable and robust."
   ]
  },
  {
   "cell_type": "markdown",
   "id": "fe7797dc",
   "metadata": {},
   "source": [
    "# Q6 - Explain the write() and writelines() functions. Give a suitable example."
   ]
  },
  {
   "cell_type": "markdown",
   "id": "18488927",
   "metadata": {},
   "source": [
    "Here is a brief explanation of each method, along with an example Python code snippet:\n",
    "\n",
    "write(): The write() method is used to write a string to a file. It writes the string at the current position of the file pointer and advances the pointer by the number of characters written. If the file does not exist, it is created. If the file exists, its contents are overwritten"
   ]
  },
  {
   "cell_type": "code",
   "execution_count": 10,
   "id": "52821008",
   "metadata": {},
   "outputs": [],
   "source": [
    "# Open file for writing\n",
    "file = open(\"example.txt\", \"w\")\n",
    "\n",
    "# Write a string to the file\n",
    "file.write(\"This is a test.\")\n",
    "\n",
    "# Close file\n",
    "file.close()"
   ]
  },
  {
   "cell_type": "markdown",
   "id": "d5488593",
   "metadata": {},
   "source": [
    "- writelines(): The writelines() method is used to write a sequence of strings to a file. It takes an iterable as an argument, such as a list or tuple of strings, and writes each string to the file. Each string is written at the current position of the file pointer, and the pointer is advanced by the number of characters written."
   ]
  },
  {
   "cell_type": "code",
   "execution_count": 11,
   "id": "94f5fa37",
   "metadata": {},
   "outputs": [],
   "source": [
    "# Open file for writing\n",
    "file = open(\"example.txt\", \"w\")\n",
    "\n",
    "# Write a list of strings to the file\n",
    "lines = [\"Line 1\\n\", \"Line 2\\n\", \"Line 3\\n\"]\n",
    "file.writelines(lines)\n",
    "\n",
    "# Close file\n",
    "file.close()\n"
   ]
  },
  {
   "cell_type": "code",
   "execution_count": null,
   "id": "37dd92b5",
   "metadata": {},
   "outputs": [],
   "source": []
  },
  {
   "cell_type": "code",
   "execution_count": null,
   "id": "bf8fd1a7",
   "metadata": {},
   "outputs": [],
   "source": []
  },
  {
   "cell_type": "code",
   "execution_count": null,
   "id": "9e66035f",
   "metadata": {},
   "outputs": [],
   "source": []
  }
 ],
 "metadata": {
  "kernelspec": {
   "display_name": "Python 3 (ipykernel)",
   "language": "python",
   "name": "python3"
  },
  "language_info": {
   "codemirror_mode": {
    "name": "ipython",
    "version": 3
   },
   "file_extension": ".py",
   "mimetype": "text/x-python",
   "name": "python",
   "nbconvert_exporter": "python",
   "pygments_lexer": "ipython3",
   "version": "3.9.13"
  }
 },
 "nbformat": 4,
 "nbformat_minor": 5
}
