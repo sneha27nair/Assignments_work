{
 "cells": [
  {
   "cell_type": "markdown",
   "id": "f4f03196",
   "metadata": {},
   "source": [
    "# Q1.What is an exception in python? Write the difference between Exceptions and Syntax errors"
   ]
  },
  {
   "cell_type": "markdown",
   "id": "9fd57168",
   "metadata": {},
   "source": [
    "- In Python, an exception is an error that occurs during the execution of a program. When an exception occurs, Python interrupts the normal flow of the program and raises an exception object. This object contains information about the error, such as the type of exception, the location where the error occurred, and a traceback of the call stack.\n",
    "\n",
    "Exceptions are a way of handling errors in a program and can be caught and handled using try and except statements. This allows the program to recover from errors and continue running, rather than crashing and terminating.\n",
    "\n",
    "On the other hand, syntax errors are errors that occur when the Python interpreter is unable to parse the code due to a violation of the language syntax rules. Syntax errors are usually detected by the interpreter during the parsing phase, before the code is executed. Syntax errors occur when there is a mistake in the code, such as a missing colon, a missing parenthesis, or a typo.\n",
    "\n",
    "The main difference between exceptions and syntax errors is that exceptions occur during the execution of the code, while syntax errors occur during the parsing phase, before the code is executed. Syntax errors are usually easy to detect and fix, as the interpreter provides a clear error message that points to the exact location of the error. Exceptions, on the other hand, can be more complex to diagnose and handle, as they can occur at different points in the code and can be caused by a variety of factors.\n",
    "\n",
    "In summary, exceptions are errors that occur during the execution of the program, while syntax errors are errors that occur during the parsing phase, before the code is executed. Handling exceptions is an important part of writing robust and reliable Python code."
   ]
  },
  {
   "cell_type": "markdown",
   "id": "4b7f331a",
   "metadata": {},
   "source": [
    "# Q2. What happens when an exception is not handled? Explain with an example"
   ]
  },
  {
   "cell_type": "markdown",
   "id": "726e366b",
   "metadata": {},
   "source": [
    "- When an exception is not handled, the default behavior is for the program to terminate and display a traceback of the exception, which includes a list of the functions and code that led to the exception.\n",
    "\n",
    "For example, consider the following code that attempts to open a file that does not exist:"
   ]
  },
  {
   "cell_type": "code",
   "execution_count": 1,
   "id": "3daced67",
   "metadata": {},
   "outputs": [
    {
     "ename": "FileNotFoundError",
     "evalue": "[Errno 2] No such file or directory: 'nonexistent.txt'",
     "output_type": "error",
     "traceback": [
      "\u001b[1;31m---------------------------------------------------------------------------\u001b[0m",
      "\u001b[1;31mFileNotFoundError\u001b[0m                         Traceback (most recent call last)",
      "\u001b[1;32m~\\AppData\\Local\\Temp\\ipykernel_12584\\2221186647.py\u001b[0m in \u001b[0;36m<module>\u001b[1;34m\u001b[0m\n\u001b[0;32m      1\u001b[0m \u001b[1;32mtry\u001b[0m\u001b[1;33m:\u001b[0m\u001b[1;33m\u001b[0m\u001b[1;33m\u001b[0m\u001b[0m\n\u001b[1;32m----> 2\u001b[1;33m     \u001b[1;32mwith\u001b[0m \u001b[0mopen\u001b[0m\u001b[1;33m(\u001b[0m\u001b[1;34m\"nonexistent.txt\"\u001b[0m\u001b[1;33m,\u001b[0m \u001b[1;34m\"r\"\u001b[0m\u001b[1;33m)\u001b[0m \u001b[1;32mas\u001b[0m \u001b[0mf\u001b[0m\u001b[1;33m:\u001b[0m\u001b[1;33m\u001b[0m\u001b[1;33m\u001b[0m\u001b[0m\n\u001b[0m\u001b[0;32m      3\u001b[0m         \u001b[0mprint\u001b[0m\u001b[1;33m(\u001b[0m\u001b[0mf\u001b[0m\u001b[1;33m.\u001b[0m\u001b[0mread\u001b[0m\u001b[1;33m(\u001b[0m\u001b[1;33m)\u001b[0m\u001b[1;33m)\u001b[0m\u001b[1;33m\u001b[0m\u001b[1;33m\u001b[0m\u001b[0m\n\u001b[0;32m      4\u001b[0m \u001b[1;32mexcept\u001b[0m \u001b[0mValueError\u001b[0m\u001b[1;33m:\u001b[0m\u001b[1;33m\u001b[0m\u001b[1;33m\u001b[0m\u001b[0m\n\u001b[0;32m      5\u001b[0m     \u001b[0mprint\u001b[0m\u001b[1;33m(\u001b[0m\u001b[1;34m\"ValueError occurred\"\u001b[0m\u001b[1;33m)\u001b[0m\u001b[1;33m\u001b[0m\u001b[1;33m\u001b[0m\u001b[0m\n",
      "\u001b[1;31mFileNotFoundError\u001b[0m: [Errno 2] No such file or directory: 'nonexistent.txt'"
     ]
    }
   ],
   "source": [
    "try:\n",
    "    with open(\"nonexistent.txt\", \"r\") as f:\n",
    "        print(f.read())\n",
    "except ValueError:\n",
    "    print(\"ValueError occurred\")\n"
   ]
  },
  {
   "cell_type": "markdown",
   "id": "dea698b3",
   "metadata": {},
   "source": [
    "In this code, we use a try block to handle any exceptions that might occur while opening the file. However, we only catch ValueError exceptions, which is not the type of exception that is raised when a file is not found. The actual exception that is raised in this case is FileNotFoundError.\n",
    "\n",
    "If we run this code, we will see an unhandled exception error message that looks something like this:"
   ]
  },
  {
   "cell_type": "code",
   "execution_count": 2,
   "id": "9d44b1cc",
   "metadata": {},
   "outputs": [
    {
     "ename": "SyntaxError",
     "evalue": "invalid syntax (2933871247.py, line 1)",
     "output_type": "error",
     "traceback": [
      "\u001b[1;36m  File \u001b[1;32m\"C:\\Users\\avani\\AppData\\Local\\Temp\\ipykernel_12584\\2933871247.py\"\u001b[1;36m, line \u001b[1;32m1\u001b[0m\n\u001b[1;33m    FileNotFoundError: [Errno 2] No such file or directory: 'nonexistent.txt'\u001b[0m\n\u001b[1;37m                              ^\u001b[0m\n\u001b[1;31mSyntaxError\u001b[0m\u001b[1;31m:\u001b[0m invalid syntax\n"
     ]
    }
   ],
   "source": [
    "FileNotFoundError: [Errno 2] No such file or directory: 'nonexistent.txt'\n"
   ]
  },
  {
   "cell_type": "markdown",
   "id": "c2a82551",
   "metadata": {},
   "source": [
    "This error message tells us that a FileNotFoundError exception occurred because the file 'nonexistent.txt' was not found. Since we did not handle this exception, the program terminated and displayed the traceback of the exception.\n",
    "\n",
    "In summary, when an exception is not handled, the program terminates and displays a traceback of the exception. It is important to handle exceptions in a way that allows the program to recover from errors and continue running."
   ]
  },
  {
   "cell_type": "markdown",
   "id": "94789111",
   "metadata": {},
   "source": [
    "# Q3. Which statements are used to catch and handle exceptions? explain with a example?"
   ]
  },
  {
   "cell_type": "markdown",
   "id": "4de41487",
   "metadata": {},
   "source": [
    "- In Python, the try and except statements are used to catch and handle exceptions.\n",
    "\n",
    "The try statement is used to enclose the block of code that may raise an exception. The except statement specifies the type of exception to catch, and the block of code to execute when the specified exception occurs. If an exception of the specified type occurs within the try block, the except block is executed. If no exception occurs, the except block is skipped.\n",
    "\n",
    "Here is an example that demonstrates how to use the try and except statements to handle an exception:"
   ]
  },
  {
   "cell_type": "code",
   "execution_count": 3,
   "id": "f2b138a7",
   "metadata": {},
   "outputs": [
    {
     "name": "stdout",
     "output_type": "stream",
     "text": [
      "Enter a number: 67\n",
      "Enter another number: 45\n",
      "The result is: 1.488888888888889\n"
     ]
    }
   ],
   "source": [
    "try:\n",
    "    num1 = int(input(\"Enter a number: \"))\n",
    "    num2 = int(input(\"Enter another number: \"))\n",
    "    result = num1 / num2\n",
    "    print(\"The result is:\", result)\n",
    "except ZeroDivisionError:\n",
    "    print(\"You cannot divide by zero. Please try again.\")"
   ]
  },
  {
   "cell_type": "markdown",
   "id": "d818f558",
   "metadata": {},
   "source": [
    "- In this example, we use the try statement to enclose the block of code that may raise a ZeroDivisionError exception if the user enters a 0 as the second number. The except statement specifies the type of exception to catch (ZeroDivisionError) and the block of code to execute if this exception occurs (displaying an error message).\n",
    "\n",
    "If we run this code and enter 0 as the second number, the program will catch the ZeroDivisionError and execute the except block, displaying the error message \"You cannot divide by zero. Please try again.\""
   ]
  },
  {
   "cell_type": "markdown",
   "id": "78c0abbb",
   "metadata": {},
   "source": [
    "- In summary, the try and except statements are used to catch and handle exceptions in Python. The try statement encloses the block of code that may raise an exception, and the except statement specifies the type of exception to catch and the block of code to execute when the exception occurs."
   ]
  },
  {
   "cell_type": "markdown",
   "id": "bb7e4d83",
   "metadata": {},
   "source": [
    "# Q4. Explain with an example:-\n",
    "\n",
    "- 1. try\n",
    "- 2. finally\n",
    "- 3. raise"
   ]
  },
  {
   "cell_type": "markdown",
   "id": "a2fa8e63",
   "metadata": {},
   "source": [
    "- In Python, the try, finally, and raise statements are used to handle and raise exceptions.\n",
    "\n",
    "- The try statement is used to enclose a block of code that may raise an exception. The finally statement is used to specify a block of code that will be executed regardless of whether or not an exception is raised. The raise statement is used to raise an exception explicitly.\n",
    "\n",
    "- In this example, we use the try statement to enclose the block of code that prompts the user to enter a positive number and raises a ValueError exception if the number is negative. We use the raise statement to raise the ValueError exception explicitly with a custom error message.\n",
    "\n",
    "- The finally statement is used to specify a block of code that will be executed regardless of whether or not an exception is raised. In this example, the finally block contains a message that indicates that the program is complete.\n",
    "\n",
    "- If we run this code and enter a negative number, the program will raise a ValueError exception and execute the finally block, displaying the message \"Program complete.\n",
    "\n",
    "- In summary, the try, finally, and raise statements are used together to handle and raise exceptions in Python. The try statement encloses the block of code that may raise an exception, the finally statement specifies a block of code that will be executed regardless of whether or not an exception is raised, and the raise statement is used to raise an exception explicitly.\n",
    "\n",
    "Here is an example that demonstrates how to use these statements together:"
   ]
  },
  {
   "cell_type": "code",
   "execution_count": 7,
   "id": "4e2d82de",
   "metadata": {},
   "outputs": [
    {
     "name": "stdout",
     "output_type": "stream",
     "text": [
      "Enter a positive number: -5\n",
      "Program complete.\n"
     ]
    },
    {
     "ename": "ValueError",
     "evalue": "Number must be positive.",
     "output_type": "error",
     "traceback": [
      "\u001b[1;31m---------------------------------------------------------------------------\u001b[0m",
      "\u001b[1;31mValueError\u001b[0m                                Traceback (most recent call last)",
      "\u001b[1;32m~\\AppData\\Local\\Temp\\ipykernel_12584\\1997485085.py\u001b[0m in \u001b[0;36m<module>\u001b[1;34m\u001b[0m\n\u001b[0;32m      2\u001b[0m     \u001b[0mnum\u001b[0m \u001b[1;33m=\u001b[0m \u001b[0mint\u001b[0m\u001b[1;33m(\u001b[0m\u001b[0minput\u001b[0m\u001b[1;33m(\u001b[0m\u001b[1;34m\"Enter a positive number: \"\u001b[0m\u001b[1;33m)\u001b[0m\u001b[1;33m)\u001b[0m\u001b[1;33m\u001b[0m\u001b[1;33m\u001b[0m\u001b[0m\n\u001b[0;32m      3\u001b[0m     \u001b[1;32mif\u001b[0m \u001b[0mnum\u001b[0m \u001b[1;33m<\u001b[0m \u001b[1;36m0\u001b[0m\u001b[1;33m:\u001b[0m\u001b[1;33m\u001b[0m\u001b[1;33m\u001b[0m\u001b[0m\n\u001b[1;32m----> 4\u001b[1;33m         \u001b[1;32mraise\u001b[0m \u001b[0mValueError\u001b[0m\u001b[1;33m(\u001b[0m\u001b[1;34m\"Number must be positive.\"\u001b[0m\u001b[1;33m)\u001b[0m\u001b[1;33m\u001b[0m\u001b[1;33m\u001b[0m\u001b[0m\n\u001b[0m\u001b[0;32m      5\u001b[0m     \u001b[1;32melse\u001b[0m\u001b[1;33m:\u001b[0m\u001b[1;33m\u001b[0m\u001b[1;33m\u001b[0m\u001b[0m\n\u001b[0;32m      6\u001b[0m         \u001b[0mprint\u001b[0m\u001b[1;33m(\u001b[0m\u001b[1;34m\"The square of\"\u001b[0m\u001b[1;33m,\u001b[0m \u001b[0mnum\u001b[0m\u001b[1;33m,\u001b[0m \u001b[1;34m\"is\"\u001b[0m\u001b[1;33m,\u001b[0m \u001b[0mnum\u001b[0m \u001b[1;33m**\u001b[0m \u001b[1;36m2\u001b[0m\u001b[1;33m)\u001b[0m\u001b[1;33m\u001b[0m\u001b[1;33m\u001b[0m\u001b[0m\n",
      "\u001b[1;31mValueError\u001b[0m: Number must be positive."
     ]
    }
   ],
   "source": [
    "try:\n",
    "    num = int(input(\"Enter a positive number: \"))\n",
    "    if num < 0:\n",
    "        raise ValueError(\"Number must be positive.\")\n",
    "    else:\n",
    "        print(\"The square of\", num, \"is\", num ** 2)\n",
    "finally:\n",
    "    print(\"Program complete.\")\n"
   ]
  },
  {
   "cell_type": "markdown",
   "id": "182015c7",
   "metadata": {},
   "source": [
    "# Q5. What are custom exceptions in python? why do we need them ?Explain with an example"
   ]
  },
  {
   "cell_type": "markdown",
   "id": "dd832883",
   "metadata": {},
   "source": [
    "- Custom exceptions in Python are user-defined exceptions that can be created to represent specific error conditions in your code. They are based on the built-in Exception class and can be used just like any other exception in Python.\n",
    "\n",
    "- There are several reasons why we might want to create custom exceptions. One reason is to provide more detailed information about the cause of an error, which can be helpful in debugging and troubleshooting code. Another reason is to make it easier to handle specific types of errors in a consistent way throughout your code.\n",
    "\n",
    "- we define a custom exception called InvalidInputError by creating a new class that inherits from the built-in Exception class. We define an __init__() method to customize the error message that is displayed when the exception is raised.\n",
    "\n",
    "- We use the custom exception in a function called divide() that takes two arguments and raises an InvalidInputError exception if the second argument is zero. We use the try and except statements to catch the exception and display an error message.\n",
    "\n",
    "- if we run this code and call the divide() function with a second argument of 0, the program will raise the InvalidInputError and execute the except block, displaying the error message \"An error occurred: Cannot divide by zero.\"\n",
    "\n",
    "- In summary, custom exceptions in Python are user-defined exceptions that can be created to represent specific error conditions in your code. They can provide more detailed information about the cause of an error and make it easier to handle specific types of errors in a consistent way throughout your code."
   ]
  },
  {
   "cell_type": "code",
   "execution_count": 8,
   "id": "8064eb18",
   "metadata": {},
   "outputs": [
    {
     "name": "stdout",
     "output_type": "stream",
     "text": [
      "An error occurred: Cannot divide by zero.\n"
     ]
    }
   ],
   "source": [
    "class InvalidInputError(Exception):\n",
    "    pass\n",
    "\n",
    "def divide(a, b):\n",
    "    if b == 0:\n",
    "        raise InvalidInputError(\"Cannot divide by zero.\")\n",
    "    return a / b\n",
    "\n",
    "try:\n",
    "    result = divide(10, 0)\n",
    "    print(\"The result is:\", result)\n",
    "except InvalidInputError as e:\n",
    "    print(\"An error occurred:\", e)\n"
   ]
  },
  {
   "cell_type": "markdown",
   "id": "b3fb1ef4",
   "metadata": {},
   "source": [
    " # Q6. Create custom exception class. Use this class to handle exceptions"
   ]
  },
  {
   "cell_type": "markdown",
   "id": "a1d71c95",
   "metadata": {},
   "source": [
    "- we define a custom exception class called InvalidInputError by creating a new class that inherits from the built-in Exception class. We do not define any additional methods in this class, so it will simply inherit all the behavior of the Exception class.\n",
    "\n",
    "- We use the custom exception in a function called divide() that takes two arguments and raises an InvalidInputError exception if the second argument is zero. We use the try and except statements to catch the exception and display an error message.\n",
    "\n",
    "- If we run this code and call the divide() function with a second argument of 0, the program will raise the InvalidInputError and execute the except block, displaying the error message \"An error occurred: Cannot divide by zero.\n",
    "\n",
    "here's an example of how to create a custom exception class in Python and use it to handle exceptions:\n"
   ]
  },
  {
   "cell_type": "code",
   "execution_count": 9,
   "id": "ced488cc",
   "metadata": {},
   "outputs": [
    {
     "name": "stdout",
     "output_type": "stream",
     "text": [
      "An error occurred: Cannot divide by zero.\n"
     ]
    }
   ],
   "source": [
    "class InvalidInputError(Exception):\n",
    "    pass\n",
    "\n",
    "def divide(a, b):\n",
    "    if b == 0:\n",
    "        raise InvalidInputError(\"Cannot divide by zero.\")\n",
    "    return a / b\n",
    "\n",
    "try:\n",
    "    result = divide(10, 0)\n",
    "    print(\"The result is:\", result)\n",
    "except InvalidInputError as e:\n",
    "    print(\"An error occurred:\", e)"
   ]
  },
  {
   "cell_type": "code",
   "execution_count": null,
   "id": "49886476",
   "metadata": {},
   "outputs": [],
   "source": []
  }
 ],
 "metadata": {
  "kernelspec": {
   "display_name": "Python 3 (ipykernel)",
   "language": "python",
   "name": "python3"
  },
  "language_info": {
   "codemirror_mode": {
    "name": "ipython",
    "version": 3
   },
   "file_extension": ".py",
   "mimetype": "text/x-python",
   "name": "python",
   "nbconvert_exporter": "python",
   "pygments_lexer": "ipython3",
   "version": "3.9.13"
  }
 },
 "nbformat": 4,
 "nbformat_minor": 5
}
