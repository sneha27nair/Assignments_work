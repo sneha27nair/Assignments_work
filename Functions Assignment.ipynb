{
 "cells": [
  {
   "cell_type": "markdown",
   "id": "f677c6ff",
   "metadata": {},
   "source": [
    "- Q1. Which keyword is used to create a function? Create a function to return a list of odd numbers in the\n",
    "range of 1 to 25.\n",
    "- Q2. Why *args and **kwargs is used in some functions? Create a function each for *args and **kwargs to\n",
    "demonstrate their use.\n",
    "- Q3. What is an iterator in python? Name the method used to initialise the iterator object and the method\n",
    "used for iteration. Use these methods to print the first five elements of the given list [2, 4, 6, 8, 10, 12, 14, 16,\n",
    "18, 20].\n",
    "- Q4. What is a generator function in python? Why yield keyword is used? Give an example of a generator\n",
    "function.\n",
    "- Q5. Create a generator function for prime numbers less than 1000. Use the next() method to print the\n",
    "first 20 prime numbers."
   ]
  },
  {
   "cell_type": "markdown",
   "id": "fab579ea",
   "metadata": {},
   "source": [
    "# Q1. Which keyword is used to create a function? Create a function to return a list of odd numbers in the range of 1 to 25?"
   ]
  },
  {
   "cell_type": "markdown",
   "id": "b82fe008",
   "metadata": {},
   "source": [
    "The keyword used to create a function in Python is def.\n",
    "\n",
    "Here is an example of a function that returns a list of odd numbers in the range of 1 to 25:"
   ]
  },
  {
   "cell_type": "code",
   "execution_count": 1,
   "id": "39e14d34",
   "metadata": {},
   "outputs": [
    {
     "name": "stdout",
     "output_type": "stream",
     "text": [
      "[1, 3, 5, 7, 9, 11, 13, 15, 17, 19, 21, 23, 25]\n"
     ]
    }
   ],
   "source": [
    "def get_odd_numbers():\n",
    "    odd_numbers = []\n",
    "    for num in range(1, 26):\n",
    "        if num % 2 != 0:\n",
    "            odd_numbers.append(num)\n",
    "    return odd_numbers\n",
    "\n",
    "# call the function and print the result\n",
    "print(get_odd_numbers())"
   ]
  },
  {
   "cell_type": "markdown",
   "id": "c92ef7d5",
   "metadata": {},
   "source": [
    "- The function get_odd_numbers() defines an empty list odd_numbers, then uses a for loop to iterate over the range of numbers from 1 to 25. If the current number is odd (i.e., not divisible by 2), it is added to the odd_numbers list using the append() method. Finally, the function returns the odd_numbers list."
   ]
  },
  {
   "cell_type": "markdown",
   "id": "bc4b0105",
   "metadata": {},
   "source": [
    "# Q2 - Why args and *kwargs is used in some functions? Create a function each for args and *kwargs to demonstrate their use.?"
   ]
  },
  {
   "cell_type": "markdown",
   "id": "9a135765",
   "metadata": {},
   "source": [
    "- *args and **kwargs are special syntax in Python used in function definitions to pass a variable number of arguments to a function.\n",
    "\n",
    "- *args is used to pass a variable number of non-keyword arguments to a function. The arguments are passed in as a tuple, which can be accessed inside the function using the args variable name.\n",
    "\n",
    "- Here is an example of a function that uses *args to accept a variable number of arguments and prints them:"
   ]
  },
  {
   "cell_type": "code",
   "execution_count": 2,
   "id": "fc175af6",
   "metadata": {},
   "outputs": [
    {
     "name": "stdout",
     "output_type": "stream",
     "text": [
      "apple\n",
      "banana\n",
      "cherry\n",
      "1\n",
      "2\n",
      "3\n",
      "4\n",
      "5\n"
     ]
    }
   ],
   "source": [
    "def my_function(*args):\n",
    "    for arg in args:\n",
    "        print(arg)\n",
    "\n",
    "# call the function with different numbers of arguments\n",
    "my_function('apple', 'banana', 'cherry')\n",
    "my_function(1, 2, 3, 4, 5)"
   ]
  },
  {
   "cell_type": "markdown",
   "id": "3d352874",
   "metadata": {},
   "source": [
    "- When we call the function my_function() with a different number of arguments each time, the function prints each argument to the console.\n",
    "\n",
    "**kwargs is used to pass a variable number of keyword arguments to a function. The arguments are passed in as a dictionary, which can be accessed inside the function using the kwargs variable name.\n",
    "\n",
    "Here is an example of a function that uses **kwargs to accept a variable number of keyword arguments and prints them:\n"
   ]
  },
  {
   "cell_type": "code",
   "execution_count": 3,
   "id": "100f2b37",
   "metadata": {},
   "outputs": [
    {
     "name": "stdout",
     "output_type": "stream",
     "text": [
      "fruit: apple\n",
      "price: 1.5\n",
      "quantity: 3\n",
      "name: John\n",
      "age: 25\n",
      "city: New York\n"
     ]
    }
   ],
   "source": [
    "def my_function(**kwargs):\n",
    "    for key, value in kwargs.items():\n",
    "        print(f\"{key}: {value}\")\n",
    "\n",
    "# call the function with different keyword arguments\n",
    "my_function(fruit='apple', price=1.50, quantity=3)\n",
    "my_function(name='John', age=25, city='New York')"
   ]
  },
  {
   "cell_type": "markdown",
   "id": "4d4a088c",
   "metadata": {},
   "source": [
    "# Q3. - What is an iterator in python? Name the method used to initialise the iterator object and the method used for iteration. Use these methods to print the first five elements of the given list [2, 4, 6, 8, 10, 12, 14, 16, 18, 20]."
   ]
  },
  {
   "cell_type": "markdown",
   "id": "6f19a7c1",
   "metadata": {},
   "source": [
    "- An iterator is an object that enables the traversal of a sequence, such as a list, tuple or dictionary. It provides a way to access the elements of a sequence one at a time, without having to store the entire sequence in memory at once.\n",
    "\n",
    "In Python, an iterator object is created by calling the iter() function on a sequence. Once an iterator object has been created, the next() method is used to iterate over the sequence and retrieve each element one at a time.\n",
    "\n",
    "Here is an example of how to use an iterator to print the first five elements of a list:"
   ]
  },
  {
   "cell_type": "code",
   "execution_count": 4,
   "id": "a67ec444",
   "metadata": {},
   "outputs": [
    {
     "name": "stdout",
     "output_type": "stream",
     "text": [
      "2\n",
      "4\n",
      "6\n",
      "8\n",
      "10\n"
     ]
    }
   ],
   "source": [
    "my_list = [2, 4, 6, 8, 10, 12, 14, 16, 18, 20]\n",
    "\n",
    "# create an iterator object for the list\n",
    "my_iterator = iter(my_list)\n",
    "\n",
    "# use the next() method to retrieve the first five elements\n",
    "print(next(my_iterator))\n",
    "print(next(my_iterator))\n",
    "print(next(my_iterator))\n",
    "print(next(my_iterator))\n",
    "print(next(my_iterator))"
   ]
  },
  {
   "cell_type": "markdown",
   "id": "5a70e4ea",
   "metadata": {},
   "source": [
    "- In the above example, we first create an iterator object for the list my_list using the iter() function. We then use the next() method to retrieve the first five elements of the list and print them to the console.\n",
    "\n",
    "- Note that if we try to retrieve more elements than are available in the list, a StopIteration exception will be raised. To avoid this, we can use a for loop to iterate over the entire sequence:"
   ]
  },
  {
   "cell_type": "code",
   "execution_count": 5,
   "id": "df4e1840",
   "metadata": {},
   "outputs": [
    {
     "name": "stdout",
     "output_type": "stream",
     "text": [
      "2\n",
      "4\n",
      "6\n",
      "8\n",
      "10\n",
      "12\n",
      "14\n",
      "16\n",
      "18\n",
      "20\n"
     ]
    }
   ],
   "source": [
    "my_list = [2, 4, 6, 8, 10, 12, 14, 16, 18, 20]\n",
    "\n",
    "# create an iterator object for the list\n",
    "my_iterator = iter(my_list)\n",
    "\n",
    "# use a for loop to iterate over the entire sequence\n",
    "for i in my_iterator:\n",
    "    print(i)"
   ]
  },
  {
   "cell_type": "markdown",
   "id": "cb8db673",
   "metadata": {},
   "source": [
    "In this example, we use a for loop to iterate over the entire sequence, and the loop automatically handles the StopIteration exception that would be raised when we reach the end of the sequence."
   ]
  },
  {
   "cell_type": "markdown",
   "id": "e1416bcb",
   "metadata": {},
   "source": [
    "# Q4 -  What is a generator function in python? Why yield keyword is used? Give an example of a generator function."
   ]
  },
  {
   "cell_type": "markdown",
   "id": "2c16b8f3",
   "metadata": {},
   "source": [
    "In Python, a generator function is a type of function that uses the yield keyword to produce a series of values that can be iterated over, one at a time, instead of returning them all at once. A generator function is essentially a way to create an iterator in a simple, concise manner.\n",
    "\n",
    "The yield keyword is used in a generator function to pause the function execution and return a value to the caller, but without destroying the state of the function. When the function is called again, it resumes from where it left off, using the previous state. This allows the generator to produce a series of values over time, as opposed to returning all the values at once.\n",
    "\n",
    "Here's an example of a generator function in Python that generates a sequence of even numbers up to a given limit:"
   ]
  },
  {
   "cell_type": "code",
   "execution_count": 6,
   "id": "4ea11b20",
   "metadata": {},
   "outputs": [
    {
     "name": "stdout",
     "output_type": "stream",
     "text": [
      "2\n",
      "4\n",
      "6\n",
      "8\n",
      "10\n"
     ]
    }
   ],
   "source": [
    "def generate_even_numbers(limit):\n",
    "    for i in range(2, limit+1, 2):\n",
    "        yield i\n",
    "\n",
    "# Example usage:\n",
    "for num in generate_even_numbers(10):\n",
    "    print(num)\n"
   ]
  },
  {
   "cell_type": "markdown",
   "id": "38dda7db",
   "metadata": {},
   "source": [
    "In this example, generate_even_numbers() is a generator function that uses a for loop to generate even numbers up to a given limit, and yield is used to return each even number one at a time. When the function is called with a limit of 10, it produces the even numbers 2, 4, 6, 8, and 10. The for loop in the example demonstrates how to iterate over the generator function to retrieve each value in the sequence one at a time.\n",
    "\n"
   ]
  },
  {
   "cell_type": "markdown",
   "id": "d785d97a",
   "metadata": {},
   "source": [
    "# Q5 - Create a generator function for prime numbers less than 1000. Use the next() method to print the first 20 prime numbers."
   ]
  },
  {
   "cell_type": "markdown",
   "id": "df93d4d5",
   "metadata": {},
   "source": [
    "- Here's an example of a generator function that generates prime numbers less than 1000 and uses the next() method to print the first 20 prime numbers:"
   ]
  },
  {
   "cell_type": "code",
   "execution_count": 8,
   "id": "08ff505f",
   "metadata": {},
   "outputs": [
    {
     "name": "stdout",
     "output_type": "stream",
     "text": [
      "2\n",
      "3\n",
      "5\n",
      "7\n",
      "11\n",
      "13\n",
      "17\n",
      "19\n",
      "23\n",
      "29\n",
      "31\n",
      "37\n",
      "41\n",
      "43\n",
      "47\n",
      "53\n",
      "59\n",
      "61\n",
      "67\n",
      "71\n"
     ]
    }
   ],
   "source": [
    "def generate_primes():\n",
    "    primes = []\n",
    "    num = 2\n",
    "    while num < 1000:\n",
    "        is_prime = True\n",
    "        for prime in primes:\n",
    "            if num % prime == 0:\n",
    "                is_prime = False\n",
    "                break\n",
    "        if is_prime:\n",
    "            primes.append(num)\n",
    "            yield num\n",
    "        num += 1\n",
    "\n",
    "# Example usage:\n",
    "prime_gen = generate_primes()\n",
    "for i in range(20):\n",
    "    print(next(prime_gen))\n"
   ]
  },
  {
   "cell_type": "code",
   "execution_count": null,
   "id": "3f8c45c1",
   "metadata": {},
   "outputs": [],
   "source": []
  }
 ],
 "metadata": {
  "kernelspec": {
   "display_name": "Python 3 (ipykernel)",
   "language": "python",
   "name": "python3"
  },
  "language_info": {
   "codemirror_mode": {
    "name": "ipython",
    "version": 3
   },
   "file_extension": ".py",
   "mimetype": "text/x-python",
   "name": "python",
   "nbconvert_exporter": "python",
   "pygments_lexer": "ipython3",
   "version": "3.9.13"
  }
 },
 "nbformat": 4,
 "nbformat_minor": 5
}
