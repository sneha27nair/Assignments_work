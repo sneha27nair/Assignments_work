{
 "cells": [
  {
   "cell_type": "markdown",
   "id": "d6579aa4",
   "metadata": {},
   "source": [
    "# Q1 - What are the characteristics of the tuples? Is tuple immutable?"
   ]
  },
  {
   "cell_type": "markdown",
   "id": "1d113512",
   "metadata": {},
   "source": [
    "In Python, a tuple is an ordered collection of elements, similar to a list. The main characteristics of tuples are:\n",
    "\n",
    "Immutable: Tuples are immutable, which means that once a tuple is created, its elements cannot be modified or removed. However, it is possible to create a new tuple by concatenating or slicing existing tuples.\n",
    "\n",
    "Ordered: Tuples are ordered, which means that the order of their elements is fixed and predictable. The first element is at index 0, the second element is at index 1, and so on.\n",
    "\n",
    "Heterogeneous: Tuples can contain elements of different types, including other tuples. For example, a tuple can contain integers, strings, floats, and other tuples.\n",
    "\n",
    "Indexed: Tuples can be accessed using index notation, which means that the value of a particular element can be obtained by specifying its position in the tuple."
   ]
  },
  {
   "cell_type": "code",
   "execution_count": 2,
   "id": "6f124843",
   "metadata": {},
   "outputs": [],
   "source": [
    "my_tuple = (1, 2, \"three\", 4.0, (5, 6))\n"
   ]
  },
  {
   "cell_type": "markdown",
   "id": "38db8eb7",
   "metadata": {},
   "source": [
    "In this example, we create a tuple named my_tuple that contains five elements, including an integer, a string, a float, and another tuple. Once created, the elements of the tuple cannot be modified, but they can be accessed using index notation. For example, my_tuple[0] would return the value 1, my_tuple[2] would return the string \"three\", and my_tuple[4][1] would return the value 6."
   ]
  },
  {
   "cell_type": "markdown",
   "id": "9a72026c",
   "metadata": {},
   "source": [
    "# Q2 - What are the two tuple methods in python? Give an example of each method. Give a reason why tuples have only two in-built methods as compared to Lists."
   ]
  },
  {
   "cell_type": "markdown",
   "id": "33e9e137",
   "metadata": {},
   "source": [
    "In Python, tuples have two built-in methods:\n",
    "\n",
    "count: This method returns the number of times a specified element appears in the tuple.\n",
    "\n",
    "index: This method returns the index of the first occurrence of a specified element in the tuple.\n",
    "\n",
    "Here's an example of using each method:"
   ]
  },
  {
   "cell_type": "code",
   "execution_count": 3,
   "id": "314e1a8f",
   "metadata": {},
   "outputs": [
    {
     "name": "stdout",
     "output_type": "stream",
     "text": [
      "2\n",
      "4\n"
     ]
    }
   ],
   "source": [
    "my_tuple = (1, 2, 3, 2, 4, 5)\n",
    "\n",
    "# Using the count method to count the number of occurrences of the element 2\n",
    "print(my_tuple.count(2)) # Output: 2\n",
    "\n",
    "# Using the index method to find the index of the first occurrence of the element 4\n",
    "print(my_tuple.index(4)) # Output: 4\n"
   ]
  },
  {
   "cell_type": "markdown",
   "id": "ad9fee92",
   "metadata": {},
   "source": [
    "Tuples have only two built-in methods because they are designed to be immutable. Since tuples cannot be modified after they are created, there is no need for methods that modify the tuple in place. Lists, on the other hand, are mutable, and therefore have many more built-in methods for adding, removing, and modifying elements. The two built-in methods for tuples provide basic functionality that is still useful for working with immutable sequences of elements."
   ]
  },
  {
   "cell_type": "markdown",
   "id": "ed9fab96",
   "metadata": {},
   "source": [
    "# Q3 - Which collection datatypes in python do not allow duplicate items? Write a code using a set to remove duplicates from the given list.\n",
    "List = [1, 1, 1, 2, 1, 3, 1, 4, 2, 1, 2, 2, 2, 3, 2, 4, 3, 1, 3, 2, 3, 3, 3, 4, 4, 1, 4, 2, 4, 3, 4, 4]"
   ]
  },
  {
   "cell_type": "markdown",
   "id": "4860e10e",
   "metadata": {},
   "source": [
    "The collection datatype in Python that does not allow duplicate items is a set.\n",
    "\n",
    "Here's an example of how to use a set to remove duplicates from the given list:\n",
    "\n",
    "python\n"
   ]
  },
  {
   "cell_type": "code",
   "execution_count": 4,
   "id": "fd8cf584",
   "metadata": {},
   "outputs": [
    {
     "name": "stdout",
     "output_type": "stream",
     "text": [
      "[1, 2, 3, 4]\n"
     ]
    }
   ],
   "source": [
    "my_list = [1, 1, 1, 2, 1, 3, 1, 4, 2, 1, 2, 2, 2, 3, 2, 4, 3, 1, 3, 2, 3, 3, 3, 4, 4, 1, 4, 2, 4, 3, 4, 4]\n",
    "\n",
    "# Converting the list to a set to remove duplicates\n",
    "my_set = set(my_list)\n",
    "\n",
    "# Converting the set back to a list\n",
    "new_list = list(my_set)\n",
    "\n",
    "# Printing the new list without duplicates\n",
    "print(new_list)\n"
   ]
  },
  {
   "cell_type": "markdown",
   "id": "0878c82f",
   "metadata": {},
   "source": [
    "In this example, we first convert the given list to a set using the set function. Since sets do not allow duplicates, the resulting set will have only the unique elements from the original list. We then convert the set back to a list using the list function, and print the resulting list without duplicates.\n",
    "\n"
   ]
  },
  {
   "cell_type": "markdown",
   "id": "8291a6ac",
   "metadata": {},
   "source": [
    "# Q4 - Explain the difference between the union() and update() methods for a set. Give an example of each method"
   ]
  },
  {
   "cell_type": "markdown",
   "id": "49170ac6",
   "metadata": {},
   "source": [
    "Both union() and update() are methods that can be used to combine sets in Python. However, there is a key difference between the two methods: union() returns a new set that contains all the elements from the original set and one or more other sets, whereas update() modifies the original set by adding all the elements from one or more other sets to it.\n",
    "\n",
    "Here are examples of using each method:"
   ]
  },
  {
   "cell_type": "code",
   "execution_count": 5,
   "id": "ca82ee28",
   "metadata": {},
   "outputs": [
    {
     "name": "stdout",
     "output_type": "stream",
     "text": [
      "{1, 2, 3, 4, 5, 6, 7}\n",
      "{1, 2, 3, 4, 5, 6, 7}\n"
     ]
    }
   ],
   "source": [
    "set1 = {1, 2, 3}\n",
    "set2 = {3, 4, 5}\n",
    "set3 = {5, 6, 7}\n",
    "\n",
    "# Using the union method to combine sets 1, 2, and 3 into a new set\n",
    "new_set = set1.union(set2, set3)\n",
    "\n",
    "# Printing the new set\n",
    "print(new_set) # Output: {1, 2, 3, 4, 5, 6, 7}\n",
    "\n",
    "# Using the update method to add sets 2 and 3 to set 1\n",
    "set1.update(set2, set3)\n",
    "\n",
    "# Printing the modified set 1\n",
    "print(set1) # Output: {1, 2, 3, 4, 5, 6, 7}\n"
   ]
  },
  {
   "cell_type": "markdown",
   "id": "095ed715",
   "metadata": {},
   "source": [
    "# Q5. What is a dictionary? Give an example. Also, state whether a dictionary is ordered or unordered."
   ]
  },
  {
   "cell_type": "markdown",
   "id": "52713aec",
   "metadata": {},
   "source": [
    "In Python, a dictionary is a collection data type that stores a collection of key-value pairs. Each key-value pair is called an item, and the key is used to access the corresponding value. Dictionaries are written using curly braces, with each item separated by a comma. The syntax for creating a dictionary is:"
   ]
  },
  {
   "cell_type": "code",
   "execution_count": 6,
   "id": "afd72e5d",
   "metadata": {},
   "outputs": [],
   "source": [
    "fruit_colors = {\"apple\": \"red\", \"banana\": \"yellow\", \"grape\": \"purple\", \"orange\": \"orange\"}\n"
   ]
  },
  {
   "cell_type": "markdown",
   "id": "062d113c",
   "metadata": {},
   "source": [
    "In this dictionary, the keys are the names of the fruits (\"apple\", \"banana\", \"grape\", and \"orange\"), and the values are their corresponding colors (\"red\", \"yellow\", \"purple\", and \"orange\").\n",
    "\n",
    "Dictionaries are unordered, which means that the items in a dictionary are not stored in any particular order. When you iterate over a dictionary or print its items, the order of the items may be different from the order in which they were added to the dictionary. However, starting from Python 3.7, dictionaries are guaranteed to maintain the order of their items as they were inserted using a new feature called \"insertion order preservation\"."
   ]
  },
  {
   "cell_type": "markdown",
   "id": "ecca3fc3",
   "metadata": {},
   "source": [
    "# Q6. Can we create a nested dictionary? If so, please give an example by creating a simple one-level nested dictionary."
   ]
  },
  {
   "cell_type": "markdown",
   "id": "7845bb96",
   "metadata": {},
   "source": [
    "Yes, we can create a nested dictionary in Python. A nested dictionary is simply a dictionary where the values are themselves dictionaries."
   ]
  },
  {
   "cell_type": "code",
   "execution_count": 7,
   "id": "d951fc1b",
   "metadata": {},
   "outputs": [],
   "source": [
    "# create a dictionary of students with their name and age\n",
    "students = {\"John\": 20, \"Mary\": 19, \"David\": 21}\n",
    "\n",
    "# create a dictionary of courses with their information\n",
    "course1 = {\"name\": \"Math\", \"credit\": 3, \"teacher\": \"Mr. Smith\"}\n",
    "course2 = {\"name\": \"English\", \"credit\": 4, \"teacher\": \"Mrs. Jones\"}\n",
    "course3 = {\"name\": \"History\", \"credit\": 3, \"teacher\": \"Ms. Brown\"}\n",
    "\n",
    "# create a nested dictionary of students and their courses\n",
    "students_courses = {\n",
    "    \"John\": {\"Math\": course1, \"English\": course2},\n",
    "    \"Mary\": {\"Math\": course1, \"History\": course3},\n",
    "    \"David\": {\"English\": course2, \"History\": course3}\n",
    "}"
   ]
  },
  {
   "cell_type": "code",
   "execution_count": 8,
   "id": "a9bfaa2a",
   "metadata": {},
   "outputs": [
    {
     "name": "stdout",
     "output_type": "stream",
     "text": [
      "{'name': 'Math', 'credit': 3, 'teacher': 'Mr. Smith'}\n"
     ]
    }
   ],
   "source": [
    "# access the information for John's Math course\n",
    "john_math_info = students_courses[\"John\"][\"Math\"]\n",
    "print(john_math_info) # Output: {\"name\": \"Math\", \"credit\": 3, \"teacher\": \"Mr. Smith\"}\n"
   ]
  },
  {
   "cell_type": "markdown",
   "id": "a3049200",
   "metadata": {},
   "source": [
    "# Q7. Using setdefault() method, create key named topics in the given dictionary and also add the value of the key as this list ['Python', 'Machine Learning’, 'Deep Learning'] dict1 = {'language' : 'Python', 'course': 'Data Science Masters'}"
   ]
  },
  {
   "cell_type": "markdown",
   "id": "6493a626",
   "metadata": {},
   "source": [
    "To add a key named \"topics\" to the dictionary dict1 and assign it the value ['Python', 'Machine Learning', 'Deep Learning'] using the setdefault() method, we can do the following:"
   ]
  },
  {
   "cell_type": "code",
   "execution_count": 9,
   "id": "05bfb4f5",
   "metadata": {},
   "outputs": [
    {
     "name": "stdout",
     "output_type": "stream",
     "text": [
      "{'language': 'Python', 'course': 'Data Science Masters', 'topics': ['Python', 'Machine Learning', 'Deep Learning']}\n"
     ]
    }
   ],
   "source": [
    "dict1 = {'language': 'Python', 'course': 'Data Science Masters'}\n",
    "\n",
    "dict1.setdefault('topics', ['Python', 'Machine Learning', 'Deep Learning'])\n",
    "\n",
    "print(dict1)\n"
   ]
  },
  {
   "cell_type": "markdown",
   "id": "4adf3945",
   "metadata": {},
   "source": [
    "The setdefault() method takes two arguments: the key to be added (in this case, 'topics') and the default value to be assigned to that key if it doesn't already exist (in this case, the list ['Python', 'Machine Learning', 'Deep Learning']). If the key already exists in the dictionary, the method simply returns the value associated with that key.\n",
    "\n",
    "In the example above, the setdefault() method is used to add the key 'topics' to the dictionary dict1 with the value ['Python', 'Machine Learning', 'Deep Learning']. Since the key 'topics' doesn't exist in the dictionary, the default value is used and the key-value pair is added to the dictionary.\n",
    "\n",
    "The output of the print() function will be:"
   ]
  },
  {
   "cell_type": "markdown",
   "id": "2ae37ca1",
   "metadata": {},
   "source": [
    "{'language': 'Python', 'course': 'Data Science Masters', 'topics': ['Python', 'Machine Learning', 'Deep Learning']}\n"
   ]
  },
  {
   "cell_type": "markdown",
   "id": "09582640",
   "metadata": {},
   "source": [
    "# Q8. What are the three view objects in dictionaries? Use the three in-built methods in python to display these three view objects for the given dictionary.\n",
    "dict1 = {'Sport': 'Cricket' , 'Teams': ['India', 'Australia', 'England', 'South Africa', 'Sri Lanka', 'New Zealand']}"
   ]
  },
  {
   "cell_type": "markdown",
   "id": "f45c4423",
   "metadata": {},
   "source": [
    "In Python dictionaries, there are three view objects that can be used to access different aspects of the dictionary:\n",
    "\n",
    "dict.keys() returns a view object of the dictionary's keys.\n",
    "dict.values() returns a view object of the dictionary's values.\n",
    "dict.items() returns a view object of the dictionary's key-value pairs.\n",
    "Here is an example that demonstrates the usage of these view objects with the given dictionary dict1:"
   ]
  },
  {
   "cell_type": "code",
   "execution_count": 12,
   "id": "f8edee7a",
   "metadata": {},
   "outputs": [
    {
     "name": "stdout",
     "output_type": "stream",
     "text": [
      "dict_keys(['Sport', 'Teams'])\n",
      "dict_values(['Cricket', ['India', 'Australia', 'England', 'South Africa', 'Sri Lanka', 'New Zealand']])\n",
      "dict_items([('Sport', 'Cricket'), ('Teams', ['India', 'Australia', 'England', 'South Africa', 'Sri Lanka', 'New Zealand'])])\n"
     ]
    }
   ],
   "source": [
    "dict1 = {'Sport': 'Cricket' , 'Teams': ['India', 'Australia', 'England', 'South Africa', 'Sri Lanka', 'New Zealand']}\n",
    "\n",
    "# display the keys view object\n",
    "print(dict1.keys())\n",
    "\n",
    "# display the values view object\n",
    "print(dict1.values())\n",
    "\n",
    "# display the items view object\n",
    "print(dict1.items())\n"
   ]
  },
  {
   "cell_type": "markdown",
   "id": "f9f3f465",
   "metadata": {},
   "source": [
    "As we can see, the keys(), values(), and items() methods return different types of view objects (dict_keys, dict_values, and dict_items, respectively), but all of them provide a way to access specific parts of the dictionary without actually copying the data. This can be useful for iterating over a dictionary, performing set operations, or updating the dictionary in-place."
   ]
  },
  {
   "cell_type": "code",
   "execution_count": null,
   "id": "903bfd34",
   "metadata": {},
   "outputs": [],
   "source": []
  }
 ],
 "metadata": {
  "kernelspec": {
   "display_name": "Python 3 (ipykernel)",
   "language": "python",
   "name": "python3"
  },
  "language_info": {
   "codemirror_mode": {
    "name": "ipython",
    "version": 3
   },
   "file_extension": ".py",
   "mimetype": "text/x-python",
   "name": "python",
   "nbconvert_exporter": "python",
   "pygments_lexer": "ipython3",
   "version": "3.9.13"
  }
 },
 "nbformat": 4,
 "nbformat_minor": 5
}
