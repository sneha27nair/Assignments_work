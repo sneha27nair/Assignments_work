{
 "cells": [
  {
   "cell_type": "markdown",
   "id": "b833108a",
   "metadata": {},
   "source": [
    "- Q1. Explain Class and Object with respect to Object-Oriented Programming. Give a suitable example.\n",
    "- Q2. Name the four pillars of OOPs.\n",
    "- Q3. Explain why the __init__() function is used. Give a suitable example.\n",
    "- Q4. Why self is used in OOPs?\n",
    "- Q5. What is inheritance? Give an example for each type of inheritance."
   ]
  },
  {
   "cell_type": "markdown",
   "id": "f1214cc0",
   "metadata": {},
   "source": [
    "# Q1 - Explain Class and Object with respect to Object-Oriented Programming. Give a suitable example."
   ]
  },
  {
   "cell_type": "markdown",
   "id": "8b281bff",
   "metadata": {},
   "source": [
    "- In object-oriented programming (OOP), a class is a blueprint for creating objects. It defines a set of attributes and methods that are shared by all instances of the class. An object, on the other hand, is an instance of a class that has its own set of attribute values and can invoke its own set of methods.\n",
    "\n",
    "A class can be thought of as a user-defined data type that encapsulates data and the operations that can be performed on that data. Objects are instances of that data type and can interact with each other and with objects of other classes.\n",
    "\n",
    "For example, let's say we want to model a car in our program. We could create a class called Car that defines the attributes and methods that are common to all cars:"
   ]
  },
  {
   "cell_type": "code",
   "execution_count": 1,
   "id": "db14b14e",
   "metadata": {},
   "outputs": [],
   "source": [
    "class Car:\n",
    "    def __init__(self, make, model, year, color):\n",
    "        self.make = make\n",
    "        self.model = model\n",
    "        self.year = year\n",
    "        self.color = color\n",
    "        self.speed = 0\n",
    "    \n",
    "    def accelerate(self):\n",
    "        self.speed += 10\n",
    "    \n",
    "    def brake(self):\n",
    "        self.speed -= 10\n",
    "    \n",
    "    def get_speed(self):\n",
    "        return self.speed\n"
   ]
  },
  {
   "cell_type": "markdown",
   "id": "11ba14e2",
   "metadata": {},
   "source": [
    "- In this example, the Car class has attributes for make, model, year, color, and speed. It also has methods for accelerate, brake, and get_speed. These methods allow us to change the speed of the car and retrieve its current speed.\n",
    "\n",
    "- To create an instance of the Car class, we can use the class as a constructor to create a new object:"
   ]
  },
  {
   "cell_type": "code",
   "execution_count": 2,
   "id": "d6e274d2",
   "metadata": {},
   "outputs": [],
   "source": [
    "my_car = Car('Ford', 'Mustang', 2022, 'red')\n"
   ]
  },
  {
   "cell_type": "code",
   "execution_count": 3,
   "id": "393c9dd7",
   "metadata": {},
   "outputs": [
    {
     "name": "stdout",
     "output_type": "stream",
     "text": [
      "20\n",
      "10\n"
     ]
    }
   ],
   "source": [
    "my_car.accelerate()  # increase speed by 10\n",
    "my_car.accelerate()  # increase speed by 10 again\n",
    "print(my_car.get_speed())  # prints 20\n",
    "my_car.brake()  # decrease speed by 10\n",
    "print(my_car.get_speed())  # prints 10"
   ]
  },
  {
   "cell_type": "markdown",
   "id": "24108327",
   "metadata": {},
   "source": [
    "# Q2 - Name the four pillars of OOPs."
   ]
  },
  {
   "cell_type": "markdown",
   "id": "5fd0e833",
   "metadata": {},
   "source": [
    "- Encapsulation: This is the concept of bundling data and methods that work on that data within a single unit, and restricting access to the internal details of that unit from the outside. Encapsulation helps to ensure that the data is accessed and manipulated only in a safe and controlled way.\n",
    "\n",
    "- Abstraction: This involves the process of hiding complex implementation details while presenting a simple and easy-to-understand interface to the user. It allows users to interact with objects at a higher level of abstraction without having to deal with the complexities of the underlying implementation.\n",
    "\n",
    "- Inheritance: This allows the creation of a new class that is a modified version of an existing class, inheriting the properties and behaviors of the parent class. This is useful for code reuse, as it allows the creation of specialized classes based on more general ones.\n",
    "\n",
    "- Polymorphism: This refers to the ability of objects of different classes to be used in a similar way, as they have a common interface. It allows for code to be more flexible and adaptable to different types of objects, as well as making it easier to maintain and modify code over time."
   ]
  },
  {
   "cell_type": "markdown",
   "id": "dbfcf1a1",
   "metadata": {},
   "source": [
    "# Q3. Explain why the __init__() function is used. Give a suitable example."
   ]
  },
  {
   "cell_type": "markdown",
   "id": "3082a5bc",
   "metadata": {},
   "source": [
    "- In object-oriented programming, the __init__() function is a special method that is called when an object is created from a class. It is used to initialize the attributes of the object to a default or user-specified value.\n",
    "\n",
    "- The __init__() method is important because it ensures that the object is created with the correct state and behavior, as defined by the class. It can also take arguments that allow for custom initialization of the object based on user input or other factors.\n",
    "\n",
    "- Here is an example of how the __init__() method is used in Python:"
   ]
  },
  {
   "cell_type": "code",
   "execution_count": 4,
   "id": "6f86b59d",
   "metadata": {},
   "outputs": [
    {
     "name": "stdout",
     "output_type": "stream",
     "text": [
      "This is a black 2020 Honda Civic.\n"
     ]
    }
   ],
   "source": [
    "class Car:\n",
    "    def __init__(self, make, model, year, color):\n",
    "        self.make = make\n",
    "        self.model = model\n",
    "        self.year = year\n",
    "        self.color = color\n",
    "        \n",
    "    def display_car_info(self):\n",
    "        print(f\"This is a {self.color} {self.year} {self.make} {self.model}.\")\n",
    "\n",
    "my_car = Car(\"Honda\", \"Civic\", 2020, \"black\")\n",
    "my_car.display_car_info()\n"
   ]
  },
  {
   "cell_type": "markdown",
   "id": "150eaf79",
   "metadata": {},
   "source": [
    "- In this example, we define a Car class that has an __init__() method to initialize the car's make, model, year, and color attributes. We then create a new car object, my_car, and pass in the relevant arguments to initialize its attributes. Finally, we call the display_car_info() method to print out information about the car.\n",
    "\n",
    "- Without the __init__() method, we would need to manually set each attribute of the car object after it was created, which would be time-consuming and error-prone. The __init__() method ensures that the object is created with the correct state and behavior from the start, making it more efficient and less error-prone."
   ]
  },
  {
   "cell_type": "markdown",
   "id": "41132fe9",
   "metadata": {},
   "source": [
    "# Q4. Why self is used in OOPs?"
   ]
  },
  {
   "cell_type": "markdown",
   "id": "47e7c9f2",
   "metadata": {},
   "source": [
    "- in object-oriented programming, self is a reference to the instance of the class that is currently being operated on. It is used to access the attributes and methods of the instance within the class. When a method is called on an instance of a class, the instance itself is automatically passed as the first argument, which is usually named self.\n",
    "\n",
    "For example, consider a class Person which has a method introduce() that prints out the name of the person. The introduce() method needs access to the name attribute of the Person instance, which is passed as self."
   ]
  },
  {
   "cell_type": "code",
   "execution_count": 5,
   "id": "9c086a84",
   "metadata": {},
   "outputs": [],
   "source": [
    "class Person:\n",
    "    def __init__(self, name):\n",
    "        self.name = name\n",
    "    \n",
    "    def introduce(self):\n",
    "        print(f\"My name is {self.name}\")"
   ]
  },
  {
   "cell_type": "markdown",
   "id": "3f343792",
   "metadata": {},
   "source": [
    "- In this example, self is used to access the name attribute of the Person instance and print it out in the introduce() method.\n",
    "\n",
    "By convention, self is the name given to the first parameter of instance methods in Python, but you could use any name you like as long as it is the first parameter of the method and you use it consistently throughout the class."
   ]
  },
  {
   "cell_type": "code",
   "execution_count": null,
   "id": "addd276e",
   "metadata": {},
   "outputs": [],
   "source": []
  },
  {
   "cell_type": "code",
   "execution_count": null,
   "id": "840e02e0",
   "metadata": {},
   "outputs": [],
   "source": []
  }
 ],
 "metadata": {
  "kernelspec": {
   "display_name": "Python 3 (ipykernel)",
   "language": "python",
   "name": "python3"
  },
  "language_info": {
   "codemirror_mode": {
    "name": "ipython",
    "version": 3
   },
   "file_extension": ".py",
   "mimetype": "text/x-python",
   "name": "python",
   "nbconvert_exporter": "python",
   "pygments_lexer": "ipython3",
   "version": "3.9.13"
  }
 },
 "nbformat": 4,
 "nbformat_minor": 5
}
