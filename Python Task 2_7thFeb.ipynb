{
 "cells": [
  {
   "cell_type": "markdown",
   "id": "928b6ee4",
   "metadata": {},
   "source": [
    "-  Q1. You are writing code for a company. The requirement of the company is that you create a python\n",
    "    function that will check whether the password entered by the user is correct or not. The function should\n",
    "    take the password as input and return the string “Valid Password” if the entered password follows the\n",
    "    below-given password guidelines else it should return “Invalid Password”.\n",
    "    Note: 1. The Password should contain at least two uppercase letters and at least two lowercase letters.\n",
    "    2. The Password should contain at least a number and three special characters.\n",
    "    3. The length of the password should be 10 characters long."
   ]
  },
  {
   "cell_type": "markdown",
   "id": "9cc1fe51",
   "metadata": {},
   "source": [
    "-  The function first checks the length of the password using the len() function. If the password is less than 10 characters long, it fails the check and \"Invalid Password\" is returned.\n",
    "\n",
    "- Next, the function uses the sum() function with a generator expression to count the number of uppercase and lowercase letters in the password. If either count is less than 2, the function returns \"Invalid Password\".\n",
    "\n",
    "- The function then checks for the presence of a number and special characters. It uses the any() function with a generator expression to check if any character in the password is a digit. It also uses a set of special characters and another generator expression to count the number of special characters in the password. If either condition fails, the function returns \"Invalid Password\".\n",
    "\n",
    "- If all checks pass, the function returns \"Valid Password\"."
   ]
  },
  {
   "cell_type": "code",
   "execution_count": 1,
   "id": "3a47d242",
   "metadata": {},
   "outputs": [],
   "source": [
    "def check_password(password):\n",
    "    # Check the length of the password\n",
    "    if len(password) < 10:\n",
    "        return \"Invalid Password\"\n",
    "    \n",
    "    # Check the number of uppercase and lowercase letters\n",
    "    num_upper = sum(1 for c in password if c.isupper())\n",
    "    num_lower = sum(1 for c in password if c.islower())\n",
    "    if num_upper < 2 or num_lower < 2:\n",
    "        return \"Invalid Password\"\n",
    "    \n",
    "    # Check the presence of a number and special characters\n",
    "    has_number = any(c.isdigit() for c in password)\n",
    "    special_chars = set('@$!%*#?&')\n",
    "    num_special = sum(1 for c in password if c in special_chars)\n",
    "    if not has_number or num_special < 3:\n",
    "        return \"Invalid Password\"\n",
    "    \n",
    "    # If all checks pass, return \"Valid Password\"\n",
    "    return \"Valid Password\"\n"
   ]
  },
  {
   "cell_type": "code",
   "execution_count": 2,
   "id": "2016edb3",
   "metadata": {},
   "outputs": [
    {
     "name": "stdout",
     "output_type": "stream",
     "text": [
      "Invalid Password\n"
     ]
    }
   ],
   "source": [
    "password = \"MyP@ssw0rd123\"\n",
    "result = check_password(password)\n",
    "print(result)  # prints \"Valid Password\"\n"
   ]
  },
  {
   "cell_type": "markdown",
   "id": "5806c24d",
   "metadata": {},
   "source": [
    "- Q2. Solve the below-given questions using at least one of the following:\n",
    "    1. Lambda function\n",
    "    2. Filter functioJn\n",
    "    3. Zap function\n",
    "    4. List Comprehension\n",
    "    \n",
    "    \n",
    "    \n",
    "    B Check if the string starts with a particular letter\n",
    "    B Check if the string is numeric\n",
    "    B Sort a list of tuples having fruit names and their quantity. [(\"mango\",99),(\"orange\",80), (\"grapes\", 1000)-\n",
    "    B Find the squares of numbers from 1 to 10\n",
    "    B Find the cube root of numbers from 1 to 10\n",
    "    B Check if a given number is even\n",
    "    B Filter odd numbers from the given list.\n",
    "    [1,2,3,4,5,6,7,8,9,10-\n",
    "    B Sort a list of integers into positive and negative integers lists.\n",
    "    [1,2,3,4,5,6,-1,-2,-3,-4,-5,0]"
   ]
  },
  {
   "cell_type": "markdown",
   "id": "6b825096",
   "metadata": {},
   "source": [
    "# Using list comprehension:"
   ]
  },
  {
   "cell_type": "code",
   "execution_count": 3,
   "id": "6ebf3e45",
   "metadata": {},
   "outputs": [
    {
     "name": "stdout",
     "output_type": "stream",
     "text": [
      "['banana', 'blueberry']\n"
     ]
    }
   ],
   "source": [
    "#Check if the string starts with a particular letter:\n",
    "words = [\"apple\", \"banana\", \"orange\", \"peach\", \"blueberry\"]\n",
    "starts_with_b = [word for word in words if word.startswith('b')]\n",
    "print(starts_with_b)  # Output: ['banana', 'blueberry']"
   ]
  },
  {
   "cell_type": "code",
   "execution_count": 4,
   "id": "7cb01138",
   "metadata": {},
   "outputs": [
    {
     "name": "stdout",
     "output_type": "stream",
     "text": [
      "[1, 4, 9, 16, 25, 36, 49, 64, 81, 100]\n"
     ]
    }
   ],
   "source": [
    "# Find the squares of numbers from 1 to 10\n",
    "squares = [x**2 for x in range(1, 11)]\n",
    "print(squares)  # Output: [1, 4, 9, 16, 25, 36, 49, 64, 81, 100]"
   ]
  },
  {
   "cell_type": "code",
   "execution_count": 5,
   "id": "bf259364",
   "metadata": {},
   "outputs": [
    {
     "name": "stdout",
     "output_type": "stream",
     "text": [
      "[1.0, 1.2599210498948732, 1.4422495703074083, 1.5874010519681994, 1.7099759466766968, 1.8171205928321397, 1.912931182772389, 2.0, 2.080083823051904, 2.154434690031884]\n"
     ]
    }
   ],
   "source": [
    "#Find the cube root of numbers from 1 to 10\n",
    "import math\n",
    "cube_roots = [math.pow(x, 1/3) for x in range(1, 11)]\n",
    "print(cube_roots)  # Output: [1.0, 1.2599210498948732, 1.4422495703074083, 1.5874010519681994, 1.7099759466766968, 1.8171205928321397, 1.912931182772389, 2.0, 2.080083823051904, 2.154434690031884]"
   ]
  },
  {
   "cell_type": "code",
   "execution_count": 6,
   "id": "4414a63b",
   "metadata": {},
   "outputs": [
    {
     "name": "stdout",
     "output_type": "stream",
     "text": [
      "True\n",
      "False\n"
     ]
    }
   ],
   "source": [
    "#Check if a given number is even\n",
    "is_even = lambda x: x % 2 == 0\n",
    "print(is_even(2))  # Output: True\n",
    "print(is_even(3))  # Output: False"
   ]
  },
  {
   "cell_type": "markdown",
   "id": "9b77bd6f",
   "metadata": {},
   "source": [
    "# Using filter function:"
   ]
  },
  {
   "cell_type": "code",
   "execution_count": 7,
   "id": "368f50dc",
   "metadata": {},
   "outputs": [
    {
     "name": "stdout",
     "output_type": "stream",
     "text": [
      "[1, 3, 5, 7, 9]\n"
     ]
    }
   ],
   "source": [
    "#Filter odd numbers from the given list:\n",
    "numbers = [1, 2, 3, 4, 5, 6, 7, 8, 9, 10]\n",
    "odd_numbers = list(filter(lambda x: x % 2 != 0, numbers))\n",
    "print(odd_numbers)  # Output: [1, 3, 5, 7, 9]"
   ]
  },
  {
   "cell_type": "markdown",
   "id": "6e346877",
   "metadata": {},
   "source": [
    "# Using sorted function and lambda function:"
   ]
  },
  {
   "cell_type": "code",
   "execution_count": 9,
   "id": "4ce10261",
   "metadata": {},
   "outputs": [
    {
     "name": "stdout",
     "output_type": "stream",
     "text": [
      "[('orange', 80), ('mango', 99), ('grapes', 1000)]\n"
     ]
    }
   ],
   "source": [
    "#Sort a list of tuples having fruit names and their quantity:\n",
    "fruits = [(\"mango\", 99), (\"orange\", 80), (\"grapes\", 1000)]\n",
    "sorted_fruits = sorted(fruits, key=lambda x: x[1])\n",
    "print(sorted_fruits)  # Output: [(\"orange\", 80), (\"mango\", 99), (\"grapes\", 1000)]\n"
   ]
  },
  {
   "cell_type": "markdown",
   "id": "3a0564e1",
   "metadata": {},
   "source": [
    "# Using zip function:\n",
    "\n",
    "- Sort a list of integers into positive and negative integers lists:"
   ]
  },
  {
   "cell_type": "code",
   "execution_count": 10,
   "id": "7f222a54",
   "metadata": {},
   "outputs": [
    {
     "name": "stdout",
     "output_type": "stream",
     "text": [
      "[1, 2, 3, 4, 5, 6]\n",
      "[-1, -2, -3, -4, -5]\n"
     ]
    }
   ],
   "source": [
    "numbers = [1, 2, 3, 4, 5, 6, -1, -2, -3, -4, -5, 0]\n",
    "positive_numbers, negative_numbers = zip(*[(num, 0) if num >= 0 else (0, num) for num in numbers])\n",
    "positive_numbers = list(filter(lambda x: x > 0, positive_numbers))\n",
    "negative_numbers = list(filter(lambda x: x < 0, negative_numbers))\n",
    "print(positive_numbers)  # Output: [1, 2, 3, 4, 5, 6]\n",
    "print(negative_numbers)  # Output: [-1, -2, -3, -4, -5]\n"
   ]
  },
  {
   "cell_type": "code",
   "execution_count": null,
   "id": "66c15282",
   "metadata": {},
   "outputs": [],
   "source": []
  }
 ],
 "metadata": {
  "kernelspec": {
   "display_name": "Python 3 (ipykernel)",
   "language": "python",
   "name": "python3"
  },
  "language_info": {
   "codemirror_mode": {
    "name": "ipython",
    "version": 3
   },
   "file_extension": ".py",
   "mimetype": "text/x-python",
   "name": "python",
   "nbconvert_exporter": "python",
   "pygments_lexer": "ipython3",
   "version": "3.9.13"
  }
 },
 "nbformat": 4,
 "nbformat_minor": 5
}
