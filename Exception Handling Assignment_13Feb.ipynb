{
 "cells": [
  {
   "cell_type": "markdown",
   "id": "3f02e704",
   "metadata": {},
   "source": [
    "- Q1. Explain why we have to use the Exception class while creating a Custom Exception.\n",
    "  Note: Here Exception class refers to the base class for all the exceptions.\n",
    "- Q2. Write a python program to print Python Exception Hierarchy.\n",
    "- Q3. What errors are defined in the ArithmeticError class? Explain any two with an example.\n",
    "- Q4. Why LookupError class is used? Explain with an example KeyError and IndexError.\n",
    "- Q5. Explain ImportError. What is ModuleNotFoundError?\n",
    "- Q6. List down some best practices for exception handling in python."
   ]
  },
  {
   "cell_type": "markdown",
   "id": "62f19600",
   "metadata": {},
   "source": [
    "# Q1. Explain why we have to use the Exception class while creating a Custom Exception. Note: Here Exception class refers to the base class for all the exceptions."
   ]
  },
  {
   "cell_type": "markdown",
   "id": "4a248774",
   "metadata": {},
   "source": [
    "- In Python, when we create a custom exception, we typically inherit from the built-in Exception class or one of its subclasses. This is because the Exception class provides a set of methods and attributes that are necessary for an exception to work correctly within the Python language and its standard library.\n",
    "\n",
    "Some of the methods and attributes provided by the Exception class include:\n",
    "\n",
    "-  __str__ method: This method is called when an exception is raised to create a human-readable string that describes the exception.\n",
    "\n",
    "-  args attribute: This attribute contains a tuple of arguments that were passed to the exception when it was raised. This allows us to include additional information about the exception in the error message.\n",
    "\n",
    "-  raise statement: This statement is used to raise an exception in Python. When we create a custom exception, we will use this statement to raise an instance of our custom exception class.\n",
    "\n",
    "- By inheriting from the Exception class, our custom exception class will inherit all of these methods and attributes, which will ensure that it behaves correctly within the Python language and its standard library. Additionally, using the Exception class as the base class for our custom exception makes it clear to other developers that our exception is intended to be used in the same way as other built-in exceptions. This can make our code more readable and easier to maintain."
   ]
  },
  {
   "cell_type": "markdown",
   "id": "d4e75c39",
   "metadata": {},
   "source": [
    "# Q2. Write a python program to print Python Exception Hierarchy."
   ]
  },
  {
   "cell_type": "markdown",
   "id": "337568b9",
   "metadata": {},
   "source": [
    "- This program defines a class PythonExceptionHierarchy that recursively traverses the Python exception hierarchy, starting from the Exception base class, and collects all the exception classes in a list. It then prints the names of these exception classes using a simple loop.\n",
    "\n",
    "When you run this program, you should see a long list of Python exception classes, organized in a hierarchical order, with BaseException at the top and specific exceptions like SyntaxError and ZeroDivisionError at the bottom.\n",
    "\n",
    "Here's a Python program that prints the Python exception hierarchy using the issubclass built-in function:"
   ]
  },
  {
   "cell_type": "code",
   "execution_count": 1,
   "id": "11570da8",
   "metadata": {},
   "outputs": [
    {
     "name": "stdout",
     "output_type": "stream",
     "text": [
      "TypeError\n",
      "FloatOperation\n",
      "MultipartConversionError\n",
      "StopAsyncIteration\n",
      "StopIteration\n",
      "ImportError\n",
      "ModuleNotFoundError\n",
      "ZipImportError\n",
      "OSError\n",
      "ConnectionError\n",
      "BrokenPipeError\n",
      "ConnectionAbortedError\n",
      "ConnectionRefusedError\n",
      "ConnectionResetError\n",
      "RemoteDisconnected\n",
      "BlockingIOError\n",
      "ChildProcessError\n",
      "FileExistsError\n",
      "FileNotFoundError\n",
      "IsADirectoryError\n",
      "NotADirectoryError\n",
      "InterruptedError\n",
      "InterruptedSystemCall\n",
      "PermissionError\n",
      "ProcessLookupError\n",
      "TimeoutError\n",
      "UnsupportedOperation\n",
      "herror\n",
      "gaierror\n",
      "timeout\n",
      "SSLError\n",
      "SSLCertVerificationError\n",
      "SSLZeroReturnError\n",
      "SSLWantReadError\n",
      "SSLWantWriteError\n",
      "SSLSyscallError\n",
      "SSLEOFError\n",
      "Error\n",
      "SameFileError\n",
      "SpecialFileError\n",
      "ExecError\n",
      "ReadError\n",
      "URLError\n",
      "HTTPError\n",
      "ContentTooShortError\n",
      "BadGzipFile\n",
      "EOFError\n",
      "IncompleteReadError\n",
      "RuntimeError\n",
      "RecursionError\n",
      "NotImplementedError\n",
      "ZMQVersionError\n",
      "StdinNotImplementedError\n",
      "_DeadlockError\n",
      "BrokenBarrierError\n",
      "BrokenExecutor\n",
      "BrokenThreadPool\n",
      "SendfileNotAvailableError\n",
      "ExtractionError\n",
      "VariableError\n",
      "NameError\n",
      "UnboundLocalError\n",
      "AttributeError\n",
      "FrozenInstanceError\n",
      "SyntaxError\n",
      "IndentationError\n",
      "TabError\n",
      "LookupError\n",
      "IndexError\n",
      "KeyError\n",
      "NoSuchKernel\n",
      "UnknownBackend\n",
      "CodecRegistryError\n",
      "ValueError\n",
      "UnicodeError\n",
      "UnicodeEncodeError\n",
      "UnicodeDecodeError\n",
      "UnicodeTranslateError\n",
      "UnsupportedOperation\n",
      "JSONDecodeError\n",
      "SSLCertVerificationError\n",
      "Error\n",
      "IllegalMonthError\n",
      "IllegalWeekdayError\n",
      "ParserError\n",
      "ClassNotFound\n",
      "ClipboardEmpty\n",
      "MessageDefect\n",
      "NoBoundaryInMultipartDefect\n",
      "StartBoundaryNotFoundDefect\n",
      "CloseBoundaryNotFoundDefect\n",
      "FirstHeaderLineIsContinuationDefect\n",
      "MisplacedEnvelopeHeaderDefect\n",
      "MissingHeaderBodySeparatorDefect\n",
      "MultipartInvariantViolationDefect\n",
      "InvalidMultipartContentTransferEncodingDefect\n",
      "UndecodableBytesDefect\n",
      "InvalidBase64PaddingDefect\n",
      "InvalidBase64CharactersDefect\n",
      "InvalidBase64LengthDefect\n",
      "HeaderDefect\n",
      "InvalidHeaderDefect\n",
      "HeaderMissingRequiredValue\n",
      "NonPrintableDefect\n",
      "ObsoleteHeaderDefect\n",
      "NonASCIILocalPartDefect\n",
      "MacroToEdit\n",
      "InvalidFileException\n",
      "UnequalIterablesError\n",
      "InvalidVersion\n",
      "_InvalidELFFileHeader\n",
      "InvalidWheelFilename\n",
      "InvalidSdistFilename\n",
      "InvalidSpecifier\n",
      "InvalidMarker\n",
      "UndefinedComparison\n",
      "UndefinedEnvironmentName\n",
      "InvalidRequirement\n",
      "RequirementParseError\n",
      "InvalidVersion\n",
      "AssertionError\n",
      "ArithmeticError\n",
      "FloatingPointError\n",
      "OverflowError\n",
      "ZeroDivisionError\n",
      "DivisionByZero\n",
      "DivisionUndefined\n",
      "DecimalException\n",
      "Clamped\n",
      "Rounded\n",
      "Underflow\n",
      "Overflow\n",
      "Inexact\n",
      "Underflow\n",
      "Overflow\n",
      "Subnormal\n",
      "Underflow\n",
      "DivisionByZero\n",
      "FloatOperation\n",
      "InvalidOperation\n",
      "ConversionSyntax\n",
      "DivisionImpossible\n",
      "DivisionUndefined\n",
      "InvalidContext\n",
      "SystemError\n",
      "CodecRegistryError\n",
      "ReferenceError\n",
      "MemoryError\n",
      "BufferError\n",
      "Warning\n",
      "UserWarning\n",
      "GetPassWarning\n",
      "FormatterWarning\n",
      "DeprecationWarning\n",
      "ProvisionalWarning\n",
      "PendingDeprecationWarning\n",
      "SyntaxWarning\n",
      "RuntimeWarning\n",
      "ProactorSelectorThreadWarning\n",
      "UnknownTimezoneWarning\n",
      "PEP440Warning\n",
      "FutureWarning\n",
      "ProvisionalCompleterWarning\n",
      "ImportWarning\n",
      "UnicodeWarning\n",
      "BytesWarning\n",
      "ResourceWarning\n",
      "DeprecatedTzFormatWarning\n",
      "PkgResourcesDeprecationWarning\n",
      "Error\n",
      "_OptionError\n",
      "error\n",
      "Verbose\n",
      "_Error\n",
      "SubprocessError\n",
      "CalledProcessError\n",
      "TimeoutExpired\n",
      "TokenError\n",
      "StopTokenizing\n",
      "ClassFoundException\n",
      "EndOfBlock\n",
      "TraitError\n",
      "Error\n",
      "Error\n",
      "CancelledError\n",
      "TimeoutError\n",
      "InvalidStateError\n",
      "_GiveupOnSendfile\n",
      "error\n",
      "Incomplete\n",
      "TimeoutError\n",
      "InvalidStateError\n",
      "LimitOverrunError\n",
      "QueueEmpty\n",
      "QueueFull\n",
      "error\n",
      "LZMAError\n",
      "RegistryError\n",
      "_GiveupOnFastCopy\n",
      "Empty\n",
      "Full\n",
      "ZMQBaseError\n",
      "ZMQError\n",
      "ContextTerminated\n",
      "Again\n",
      "InterruptedSystemCall\n",
      "ZMQBindError\n",
      "NotDone\n",
      "PickleError\n",
      "PicklingError\n",
      "UnpicklingError\n",
      "_Stop\n",
      "ArgumentError\n",
      "ArgumentTypeError\n",
      "ConfigError\n",
      "ConfigLoaderError\n",
      "ArgumentError\n",
      "ConfigFileNotFound\n",
      "ConfigurableError\n",
      "MultipleInstanceError\n",
      "ApplicationError\n",
      "TimeoutError\n",
      "COMError\n",
      "ArgumentError\n",
      "ReturnValueIgnoredError\n",
      "KeyReuseError\n",
      "UnknownKeyError\n",
      "LeakedCallbackError\n",
      "BadYieldError\n",
      "ReturnValueIgnoredError\n",
      "Return\n",
      "InvalidPortNumber\n",
      "NoIPAddresses\n",
      "BadZipFile\n",
      "LargeZipFile\n",
      "Error\n",
      "NoSectionError\n",
      "DuplicateSectionError\n",
      "DuplicateOptionError\n",
      "NoOptionError\n",
      "InterpolationError\n",
      "InterpolationMissingOptionError\n",
      "InterpolationSyntaxError\n",
      "InterpolationDepthError\n",
      "ParsingError\n",
      "MissingSectionHeaderError\n",
      "BadEntryPoint\n",
      "NoSuchEntryPoint\n",
      "DuplicateKernelError\n",
      "ErrorDuringImport\n",
      "BdbQuit\n",
      "Restart\n",
      "FindCmdError\n",
      "HomeDirError\n",
      "ProfileDirError\n",
      "IPythonCoreError\n",
      "TryNext\n",
      "UsageError\n",
      "StdinNotImplementedError\n",
      "InputRejected\n",
      "GetoptError\n",
      "OptionError\n",
      "ErrorToken\n",
      "PrefilterError\n",
      "AliasError\n",
      "InvalidAliasError\n",
      "Error\n",
      "InterfaceError\n",
      "DatabaseError\n",
      "InternalError\n",
      "OperationalError\n",
      "ProgrammingError\n",
      "IntegrityError\n",
      "DataError\n",
      "NotSupportedError\n",
      "Warning\n",
      "SpaceInInput\n",
      "DOMException\n",
      "IndexSizeErr\n",
      "DomstringSizeErr\n",
      "HierarchyRequestErr\n",
      "WrongDocumentErr\n",
      "InvalidCharacterErr\n",
      "NoDataAllowedErr\n",
      "NoModificationAllowedErr\n",
      "NotFoundErr\n",
      "NotSupportedErr\n",
      "InuseAttributeErr\n",
      "InvalidStateErr\n",
      "SyntaxErr\n",
      "InvalidModificationErr\n",
      "NamespaceErr\n",
      "InvalidAccessErr\n",
      "ValidationErr\n",
      "ValidationError\n",
      "EditReadOnlyBuffer\n",
      "_Retry\n",
      "InvalidLayoutError\n",
      "HeightIsUnknownError\n",
      "ParserSyntaxError\n",
      "InternalParseError\n",
      "_PositionUpdatingFinished\n",
      "SimpleGetItemNotFound\n",
      "UncaughtAttributeError\n",
      "HasNoContext\n",
      "ParamIssue\n",
      "_JediError\n",
      "InternalError\n",
      "WrongVersion\n",
      "RefactoringError\n",
      "OnErrorLeaf\n",
      "InvalidPythonEnvironment\n",
      "MessageError\n",
      "MessageParseError\n",
      "HeaderParseError\n",
      "BoundaryError\n",
      "MultipartConversionError\n",
      "CharsetError\n",
      "Error\n",
      "HTTPException\n",
      "NotConnected\n",
      "InvalidURL\n",
      "UnknownProtocol\n",
      "UnknownTransferEncoding\n",
      "UnimplementedFileMode\n",
      "IncompleteRead\n",
      "ImproperConnectionState\n",
      "CannotSendRequest\n",
      "CannotSendHeader\n",
      "ResponseNotReady\n",
      "BadStatusLine\n",
      "RemoteDisconnected\n",
      "LineTooLong\n",
      "InteractivelyDefined\n",
      "KillEmbedded\n",
      "Error\n",
      "NoSuchProcess\n",
      "ZombieProcess\n",
      "AccessDenied\n",
      "TimeoutExpired\n",
      "Error\n",
      "TimeoutExpired\n",
      "TimeoutAbandoned\n",
      "QueueEmpty\n",
      "QueueFull\n",
      "ExpatError\n",
      "Error\n",
      "ProtocolError\n",
      "ResponseError\n",
      "Fault\n",
      "error\n",
      "com_error\n",
      "internal_error\n",
      "ParseBaseException\n",
      "ParseException\n",
      "ParseFatalException\n",
      "ParseSyntaxException\n",
      "RecursiveGrammarException\n",
      "ResolutionError\n",
      "VersionConflict\n",
      "ContextualVersionConflict\n",
      "DistributionNotFound\n",
      "UnknownExtra\n",
      "UnableToResolveVariableException\n",
      "InvalidTypeInArgsException\n"
     ]
    }
   ],
   "source": [
    "class PythonExceptionHierarchy:\n",
    "    def __init__(self):\n",
    "        self.exceptions = []\n",
    "        self.get_exceptions(Exception)\n",
    "\n",
    "    def get_exceptions(self, exception):\n",
    "        for sub_exception in exception.__subclasses__():\n",
    "            self.exceptions.append(sub_exception)\n",
    "            self.get_exceptions(sub_exception)\n",
    "\n",
    "    def print_exceptions(self):\n",
    "        for exception in self.exceptions:\n",
    "            print(exception.__name__)\n",
    "\n",
    "python_exception_hierarchy = PythonExceptionHierarchy()\n",
    "python_exception_hierarchy.print_exceptions()\n"
   ]
  },
  {
   "cell_type": "markdown",
   "id": "7b788d0d",
   "metadata": {},
   "source": [
    "# Q3. What errors are defined in the ArithmeticError class? Explain any two with an example."
   ]
  },
  {
   "cell_type": "markdown",
   "id": "35f4ea95",
   "metadata": {},
   "source": [
    "- The ArithmeticError class in Python is a base class for all the errors that occur during arithmetic calculations. It is a subclass of the built-in Exception class and is used to group exceptions that are related to arithmetic operations.\n",
    "\n",
    "Here are two examples of errors that are defined in the ArithmeticError class:\n",
    "\n",
    "1. ZeroDivisionError: This error is raised when we try to divide a number by zero. For example, the following code will raise a ZeroDivisionError:\n",
    "\n"
   ]
  },
  {
   "cell_type": "code",
   "execution_count": 2,
   "id": "38940c74",
   "metadata": {},
   "outputs": [
    {
     "ename": "ZeroDivisionError",
     "evalue": "division by zero",
     "output_type": "error",
     "traceback": [
      "\u001b[1;31m---------------------------------------------------------------------------\u001b[0m",
      "\u001b[1;31mZeroDivisionError\u001b[0m                         Traceback (most recent call last)",
      "\u001b[1;32m~\\AppData\\Local\\Temp\\ipykernel_11444\\2952800310.py\u001b[0m in \u001b[0;36m<module>\u001b[1;34m\u001b[0m\n\u001b[0;32m      1\u001b[0m \u001b[0ma\u001b[0m \u001b[1;33m=\u001b[0m \u001b[1;36m10\u001b[0m\u001b[1;33m\u001b[0m\u001b[1;33m\u001b[0m\u001b[0m\n\u001b[0;32m      2\u001b[0m \u001b[0mb\u001b[0m \u001b[1;33m=\u001b[0m \u001b[1;36m0\u001b[0m\u001b[1;33m\u001b[0m\u001b[1;33m\u001b[0m\u001b[0m\n\u001b[1;32m----> 3\u001b[1;33m \u001b[0mc\u001b[0m \u001b[1;33m=\u001b[0m \u001b[0ma\u001b[0m \u001b[1;33m/\u001b[0m \u001b[0mb\u001b[0m  \u001b[1;31m# Raises ZeroDivisionError\u001b[0m\u001b[1;33m\u001b[0m\u001b[1;33m\u001b[0m\u001b[0m\n\u001b[0m",
      "\u001b[1;31mZeroDivisionError\u001b[0m: division by zero"
     ]
    }
   ],
   "source": [
    "a = 10\n",
    "b = 0\n",
    "c = a / b  # Raises ZeroDivisionError\n"
   ]
  },
  {
   "cell_type": "markdown",
   "id": "b94d2527",
   "metadata": {},
   "source": [
    "- In this case, the variable b is set to 0, which causes a division by zero. Since dividing by zero is undefined, Python raises a ZeroDivisionError to signal that an error has occurred.\n",
    "\n",
    "OverflowError: This error is raised when the result of an arithmetic operation is too large to be represented in memory. For example, the following code will raise an OverflowError:"
   ]
  },
  {
   "cell_type": "code",
   "execution_count": 4,
   "id": "d851d2b2",
   "metadata": {},
   "outputs": [],
   "source": [
    "a = 10 ** 1000\n",
    "b = 10 ** 1000\n",
    "c = a * b  # Raises OverflowError"
   ]
  },
  {
   "cell_type": "markdown",
   "id": "60766140",
   "metadata": {},
   "source": [
    "- In this case, the variables a and b are both set to a very large number, which causes the product to be too large to fit in memory. Python raises an OverflowError to signal that the result of the multiplication is too large.\n",
    "\n",
    "Both of these errors are subclasses of ArithmeticError, which means that they inherit all the methods and attributes of the ArithmeticError class. This includes methods like __str__ and args, which are used to provide a human-readable error message and additional information about the error, respectively."
   ]
  },
  {
   "cell_type": "markdown",
   "id": "f353a562",
   "metadata": {},
   "source": [
    "# Q4. Why LookupError class is used? Explain with an example KeyError and IndexError."
   ]
  },
  {
   "cell_type": "markdown",
   "id": "ef4afb1a",
   "metadata": {},
   "source": [
    "- The LookupError class in Python is a base class for all the errors that occur when a key or index is not found in a collection. It is a subclass of the built-in Exception class and is used to group exceptions that are related to lookup operations.\n",
    "\n",
    "Here are two examples of errors that are subclasses of LookupError:\n",
    "\n",
    "KeyError: This error is raised when we try to access a dictionary key that does not exist. For example, the following code will raise a KeyError:"
   ]
  },
  {
   "cell_type": "code",
   "execution_count": 5,
   "id": "5ca54eba",
   "metadata": {},
   "outputs": [
    {
     "ename": "KeyError",
     "evalue": "'d'",
     "output_type": "error",
     "traceback": [
      "\u001b[1;31m---------------------------------------------------------------------------\u001b[0m",
      "\u001b[1;31mKeyError\u001b[0m                                  Traceback (most recent call last)",
      "\u001b[1;32m~\\AppData\\Local\\Temp\\ipykernel_11444\\1146235899.py\u001b[0m in \u001b[0;36m<module>\u001b[1;34m\u001b[0m\n\u001b[0;32m      1\u001b[0m \u001b[0md\u001b[0m \u001b[1;33m=\u001b[0m \u001b[1;33m{\u001b[0m\u001b[1;34m'a'\u001b[0m\u001b[1;33m:\u001b[0m \u001b[1;36m1\u001b[0m\u001b[1;33m,\u001b[0m \u001b[1;34m'b'\u001b[0m\u001b[1;33m:\u001b[0m \u001b[1;36m2\u001b[0m\u001b[1;33m,\u001b[0m \u001b[1;34m'c'\u001b[0m\u001b[1;33m:\u001b[0m \u001b[1;36m3\u001b[0m\u001b[1;33m}\u001b[0m\u001b[1;33m\u001b[0m\u001b[1;33m\u001b[0m\u001b[0m\n\u001b[1;32m----> 2\u001b[1;33m \u001b[0mvalue\u001b[0m \u001b[1;33m=\u001b[0m \u001b[0md\u001b[0m\u001b[1;33m[\u001b[0m\u001b[1;34m'd'\u001b[0m\u001b[1;33m]\u001b[0m  \u001b[1;31m# Raises KeyError\u001b[0m\u001b[1;33m\u001b[0m\u001b[1;33m\u001b[0m\u001b[0m\n\u001b[0m",
      "\u001b[1;31mKeyError\u001b[0m: 'd'"
     ]
    }
   ],
   "source": [
    "d = {'a': 1, 'b': 2, 'c': 3}\n",
    "value = d['d']  # Raises KeyError\n"
   ]
  },
  {
   "cell_type": "markdown",
   "id": "9a09e32b",
   "metadata": {},
   "source": [
    "- In this case, the dictionary d does not have a key 'd', so attempting to access d['d'] raises a KeyError to signal that the key is not found.\n",
    "\n",
    "IndexError: This error is raised when we try to access a list or tuple index that is out of range. For example, the following code will raise an IndexError:"
   ]
  },
  {
   "cell_type": "code",
   "execution_count": 6,
   "id": "fa937201",
   "metadata": {},
   "outputs": [
    {
     "ename": "IndexError",
     "evalue": "list index out of range",
     "output_type": "error",
     "traceback": [
      "\u001b[1;31m---------------------------------------------------------------------------\u001b[0m",
      "\u001b[1;31mIndexError\u001b[0m                                Traceback (most recent call last)",
      "\u001b[1;32m~\\AppData\\Local\\Temp\\ipykernel_11444\\549009290.py\u001b[0m in \u001b[0;36m<module>\u001b[1;34m\u001b[0m\n\u001b[0;32m      1\u001b[0m \u001b[0ma\u001b[0m \u001b[1;33m=\u001b[0m \u001b[1;33m[\u001b[0m\u001b[1;36m1\u001b[0m\u001b[1;33m,\u001b[0m \u001b[1;36m2\u001b[0m\u001b[1;33m,\u001b[0m \u001b[1;36m3\u001b[0m\u001b[1;33m]\u001b[0m\u001b[1;33m\u001b[0m\u001b[1;33m\u001b[0m\u001b[0m\n\u001b[1;32m----> 2\u001b[1;33m \u001b[0mvalue\u001b[0m \u001b[1;33m=\u001b[0m \u001b[0ma\u001b[0m\u001b[1;33m[\u001b[0m\u001b[1;36m3\u001b[0m\u001b[1;33m]\u001b[0m  \u001b[1;31m# Raises IndexError\u001b[0m\u001b[1;33m\u001b[0m\u001b[1;33m\u001b[0m\u001b[0m\n\u001b[0m",
      "\u001b[1;31mIndexError\u001b[0m: list index out of range"
     ]
    }
   ],
   "source": [
    "a = [1, 2, 3]\n",
    "value = a[3]  # Raises IndexError\n"
   ]
  },
  {
   "cell_type": "markdown",
   "id": "c90f318d",
   "metadata": {},
   "source": [
    "- In this case, the list a has only three elements, so attempting to access a[3] (which is the fourth element, since indexing starts at 0) raises an IndexError to signal that the index is out of range.\n",
    "\n",
    "Both of these errors are subclasses of LookupError, which means that they inherit all the methods and attributes of the LookupError class. This includes methods like __str__ and args, which are used to provide a human-readable error message and additional information about the error, respectively. Using LookupError as the base class for these exceptions allows us to handle them together, since they both represent cases where we are looking up a value that does not exist."
   ]
  },
  {
   "cell_type": "markdown",
   "id": "063a40d3",
   "metadata": {},
   "source": [
    "# Q5. Explain ImportError. What is ModuleNotFoundError?"
   ]
  },
  {
   "cell_type": "markdown",
   "id": "3592219d",
   "metadata": {},
   "source": [
    "- In Python, ImportError is an exception that is raised when an imported module, package, or name is not found. This can occur for a number of reasons, such as a typo in the import statement, a missing module in the Python environment, or an incorrect file path.\n",
    "\n",
    "For example, suppose we have a Python script that tries to import a module that does not exist:"
   ]
  },
  {
   "cell_type": "code",
   "execution_count": 7,
   "id": "b5d93f00",
   "metadata": {},
   "outputs": [
    {
     "ename": "ModuleNotFoundError",
     "evalue": "No module named 'foo'",
     "output_type": "error",
     "traceback": [
      "\u001b[1;31m---------------------------------------------------------------------------\u001b[0m",
      "\u001b[1;31mModuleNotFoundError\u001b[0m                       Traceback (most recent call last)",
      "\u001b[1;32m~\\AppData\\Local\\Temp\\ipykernel_11444\\2057459041.py\u001b[0m in \u001b[0;36m<module>\u001b[1;34m\u001b[0m\n\u001b[1;32m----> 1\u001b[1;33m \u001b[1;32mimport\u001b[0m \u001b[0mfoo\u001b[0m  \u001b[1;31m# Raises ImportError\u001b[0m\u001b[1;33m\u001b[0m\u001b[1;33m\u001b[0m\u001b[0m\n\u001b[0m",
      "\u001b[1;31mModuleNotFoundError\u001b[0m: No module named 'foo'"
     ]
    }
   ],
   "source": [
    "import foo  # Raises ImportError\n"
   ]
  },
  {
   "cell_type": "markdown",
   "id": "7eece95b",
   "metadata": {},
   "source": [
    "- In this case, if there is no module named foo in the Python environment, Python will raise an ImportError to signal that the module cannot be found.\n",
    "\n",
    "In Python 3.6 and later, there is a more specific exception called ModuleNotFoundError that is raised when a module cannot be found. This exception is a subclass of ImportError and provides a more specific error message when a module cannot be found.\n",
    "\n",
    "For example, suppose we have a Python script that tries to import a module that does not exist:"
   ]
  },
  {
   "cell_type": "code",
   "execution_count": 8,
   "id": "1fcadc98",
   "metadata": {},
   "outputs": [
    {
     "ename": "ModuleNotFoundError",
     "evalue": "No module named 'foo'",
     "output_type": "error",
     "traceback": [
      "\u001b[1;31m---------------------------------------------------------------------------\u001b[0m",
      "\u001b[1;31mModuleNotFoundError\u001b[0m                       Traceback (most recent call last)",
      "\u001b[1;32m~\\AppData\\Local\\Temp\\ipykernel_11444\\4082972174.py\u001b[0m in \u001b[0;36m<module>\u001b[1;34m\u001b[0m\n\u001b[1;32m----> 1\u001b[1;33m \u001b[1;32mimport\u001b[0m \u001b[0mfoo\u001b[0m  \u001b[1;31m# Raises ModuleNotFoundError in Python 3.6 and later\u001b[0m\u001b[1;33m\u001b[0m\u001b[1;33m\u001b[0m\u001b[0m\n\u001b[0m",
      "\u001b[1;31mModuleNotFoundError\u001b[0m: No module named 'foo'"
     ]
    }
   ],
   "source": [
    "import foo  # Raises ModuleNotFoundError in Python 3.6 and later"
   ]
  },
  {
   "cell_type": "markdown",
   "id": "36c678bf",
   "metadata": {},
   "source": [
    "- In this case, if there is no module named foo in the Python environment, Python will raise a ModuleNotFoundError to signal that the module cannot be found. This exception is more specific than ImportError and provides a clearer error message, which can make it easier to diagnose and fix the problem.\n",
    "\n",
    "Both ImportError and ModuleNotFoundError are used to signal that an imported module or name cannot be found, but ModuleNotFoundError is more specific and provides a clearer error message. It's important to handle these exceptions in a way that gracefully handles the error and provides useful information to the user.\n",
    "\n",
    "\n",
    "\n"
   ]
  },
  {
   "cell_type": "markdown",
   "id": "ef13c327",
   "metadata": {},
   "source": [
    "# Q6. List down some best practices for exception handling in python."
   ]
  },
  {
   "cell_type": "markdown",
   "id": "857ed711",
   "metadata": {},
   "source": [
    "- Exception handling is an important aspect of writing robust and reliable Python code. Here are some best practices to keep in mind when handling exceptions in Python:\n",
    "\n",
    "Use specific exception types: Catching specific exceptions allows you to handle errors more precisely and avoid catching exceptions that you didn't intend to catch. For example, instead of catching the general Exception class, catch specific exceptions like ValueError or TypeError that you expect might occur.\n",
    "\n",
    "Handle exceptions where they occur: Handle exceptions as close to where they occur as possible. This makes it easier to debug and understand the code.\n",
    "\n",
    "Provide useful error messages: When an exception is raised, provide a clear and descriptive error message that explains what went wrong and how to fix it. The error message should help the user to understand what happened and how to resolve the problem.\n",
    "\n",
    "Use the finally block to clean up resources: The finally block is a good place to put code that should always run, regardless of whether an exception is raised or not. For example, if you're working with a file, you can close it in the finally block to ensure that it's properly closed even if an exception occurs.\n",
    "\n",
    "Don't catch all exceptions: Avoid catching all exceptions unless it's absolutely necessary. Catching all exceptions can hide bugs and make it harder to debug issues.\n",
    "\n",
    "Use context managers: Context managers (with statements) provide a convenient way to manage resources, such as files, that need to be cleaned up after use. Using context managers helps to ensure that resources are properly managed and cleaned up, even if an exception is raised.\n",
    "\n",
    "Log exceptions: Logging exceptions is a good practice because it helps to identify and debug issues in the code. Use a logging framework like logging to log exceptions with a clear and descriptive error message.\n",
    "\n",
    "By following these best practices, you can write code that is more robust and reliable, and that handles exceptions in a clear and effective manner."
   ]
  },
  {
   "cell_type": "code",
   "execution_count": null,
   "id": "231841c5",
   "metadata": {},
   "outputs": [],
   "source": []
  },
  {
   "cell_type": "code",
   "execution_count": null,
   "id": "b5277ccc",
   "metadata": {},
   "outputs": [],
   "source": []
  },
  {
   "cell_type": "code",
   "execution_count": null,
   "id": "7dd8462c",
   "metadata": {},
   "outputs": [],
   "source": []
  },
  {
   "cell_type": "code",
   "execution_count": null,
   "id": "9c4e96cc",
   "metadata": {},
   "outputs": [],
   "source": []
  },
  {
   "cell_type": "code",
   "execution_count": null,
   "id": "cece9850",
   "metadata": {},
   "outputs": [],
   "source": []
  }
 ],
 "metadata": {
  "kernelspec": {
   "display_name": "Python 3 (ipykernel)",
   "language": "python",
   "name": "python3"
  },
  "language_info": {
   "codemirror_mode": {
    "name": "ipython",
    "version": 3
   },
   "file_extension": ".py",
   "mimetype": "text/x-python",
   "name": "python",
   "nbconvert_exporter": "python",
   "pygments_lexer": "ipython3",
   "version": "3.9.13"
  }
 },
 "nbformat": 4,
 "nbformat_minor": 5
}
